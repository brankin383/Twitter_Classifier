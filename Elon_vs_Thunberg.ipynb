{
 "cells": [
  {
   "cell_type": "code",
   "execution_count": 1,
   "id": "d0947567",
   "metadata": {},
   "outputs": [],
   "source": [
    "import tweepy\n",
    "import json\n",
    "import requests\n",
    "from nltk.corpus import stopwords # stopword examples, 'its', 'on', 'the', etc <---- will be helpful later\n",
    "# most pythonistas will rename pandas as pd, numpy as np, and datetime as dt for short (you don't have to)\n",
    "import pandas as pd\n",
    "import numpy as np\n",
    "import datetime as dt"
   ]
  },
  {
   "cell_type": "code",
   "execution_count": 2,
   "id": "d64cf856",
   "metadata": {},
   "outputs": [],
   "source": [
    "# open file with keys and set the path to your credentials JSON file\n",
    "# you'll need to replace my file with yours\n",
    "credentials = \"KEYS.json\"\n",
    "with open(credentials, \"r\") as keys:\n",
    "    api_tokens = json.load(keys)"
   ]
  },
  {
   "cell_type": "code",
   "execution_count": 3,
   "id": "b0f5151c",
   "metadata": {},
   "outputs": [],
   "source": [
    "# get twitter tokens \n",
    "bearer_token = api_tokens[\"bearer_token\"]"
   ]
  },
  {
   "cell_type": "code",
   "execution_count": 4,
   "id": "3974f4d0",
   "metadata": {},
   "outputs": [],
   "source": [
    "# we only want status info so we won't need the higher level access\n",
    "client = tweepy.Client(bearer_token=bearer_token)"
   ]
  },
  {
   "cell_type": "code",
   "execution_count": 5,
   "id": "5a1f583b",
   "metadata": {},
   "outputs": [
    {
     "data": {
      "text/plain": [
       "[<Tweet id=1605277353508147200 text='Elon Musk: how scary is it to be pulled out by cops?\\n\\nalso Elon Musk : only white people are allowed to answer!'>,\n",
       " <Tweet id=1605277345962921984 text='Elon Musk seeks to sell Twitter shares in search of new funds. Investors approached to purchase stock at $54.20 buyout price as social media\\xa0. https://t.co/1zAqUQSeZg'>,\n",
       " <Tweet id=1605277322529374208 text='@SanteSuzie ELON MUSK IS SO INTELLIGENT, TALENTED, SUCCESSFUL, HANDSOME &amp; SEXY, (STUD), GENIUS, BEAUTIFUL WINNING SMILE, AWESOME TESLA, &amp; A VERY SEXY BIG D SPACE X ROCKET!!!!!!! THANK YOU 😊🙏'>,\n",
       " <Tweet id=1605277314295779349 text='@andst7 @elonmusk @Corriere I support an Italian newspaper. Elon Musk is a worthy candidate for the title of person of the year.'>,\n",
       " <Tweet id=1605277308738224137 text=\"Fact check: No, Elon Musk isn't buying Meta. A viral video is altered - USA TODAY https://t.co/seW8y8e6aE #BusinessProposal\">,\n",
       " <Tweet id=1605277305827254272 text='\"Owners also bear an ethical responsibility to strike a balance, protecting speech and safety at the same time. Mr. Musk has made a mockery of the enterprise, caring about speech only when it’s his own speech and safety only when it’s his own safety.\"\\n https://t.co/4krfU8K56f'>,\n",
       " <Tweet id=1605277298181214208 text='@DineshDSouza Pure genius. Elon Musk again finds a way to clean up the bots on Twitter.'>,\n",
       " <Tweet id=1605277291956690944 text=\"@DavidfromMd2 That being said, the idea that TSLA should go down based on the fact that some libs don't like that Elon Musk says stuff with which they disagree is exceedingly silly.\">,\n",
       " <Tweet id=1605277289092202496 text='I just had a dream Elon Musk bought Valve and I was banned from Steam. I was like \"why Gabe why would you sell?\"'>,\n",
       " <Tweet id=1605277287124975616 text='@RepAdamSchiff Elon musk is correct, your brain is too small'>,\n",
       " <Tweet id=1605277284763840512 text=\"@Maikasuwainyam4 @cuppymusic She wan rip person Elon musk's glory e no proper🤣\">,\n",
       " <Tweet id=1605277272583569408 text='\"Owners also bear an ethical responsibility to strike a balance, protecting speech and safety at the same time. Mr. Musk has made a mockery of the enterprise, caring about speech only when it’s his own speech and safety only when it’s his own safety.\"\\n https://t.co/4krfU92ekn'>,\n",
       " <Tweet id=1605277247291920385 text='NOT MY PSYCHOLOGY TEACHER TALKINF ABOUT ELON MUSK BUYING TWITTER AS PART OF THE LESSON HAHAHAHAHAHAH'>,\n",
       " <Tweet id=1605277244909314048 text='@danualthemanual @honestsportz @CultureCrave so hating Elon musk because he was born to white pepo in Africa is based. You know what, I was wrong. This actually makes so much sense, I agree that he is an evil fascist because he happened to be born to white people. He was racist before being conceived and he willingly did it'>,\n",
       " <Tweet id=1605277243369930752 text='Twitter Is Spiraling Down the Drain of Elon Musk’s Manic Narcissism\\n#elonmusknarcissist https://t.co/Hcxc81qhns'>,\n",
       " <Tweet id=1605277239972487168 text='semi regular report on the elon musk anti-spam crusade\\n\\nI now have to hide at least one tweet per day in the F# community here (under \"Communities\") due to spam. Never was an issue before he took over'>,\n",
       " <Tweet id=1605277230019629071 text='BREAKING: Elon Musk Hints that Poll About Him Stepping Down as Twitter CEO Was a Trick... https://t.co/daYs2znQ9u'>,\n",
       " <Tweet id=1605277222742667264 text=\"@elonmusk Take cover. Count down to two giant egos about to explode. We hope there is no collateral damage, but like all sociopaths, they don't care how many innocents they take with them.\\nhttps://t.co/fMlzfUL2NN\">,\n",
       " <Tweet id=1605277208485933057 text='@elonmusk Why would we expect anything you say as truth?\\nhttps://t.co/WqdnXnndAn'>,\n",
       " <Tweet id=1605277204929458176 text='@MarioNawfal Q. Why is twitter suddenly so addictive???\\n\\nA. Elon Musk brought in a new drama.  Without trying he became a polorizing figure.   He also was responsible for getting rid of a lot the \"bots\"(fake accounts controlled by AI... artificial intelligence.)'>,\n",
       " <Tweet id=1605277197916307458 text=\"@themouthmatusow @elonmusk Right on you are 100% correct they rigged the election and they're destroying this country let's get the crap out of this country and that's not Donald Trump and that's not Elon Musk that's the communist or controlling us now or trying to.\">,\n",
       " <Tweet id=1605277193159917568 text='What a fulfilling life Elon Musk has had. Even the greatest before him have never “occasioned” to find their purpose as soon as they found the money. \\nThen again, perhaps he knew the purpose before he found the money.'>,\n",
       " <Tweet id=1605277190123315201 text='Tesla stock concerns go beyond Elon Musk multitasking at Twitter: Analyst https://t.co/soMia47699 🤔'>,\n",
       " <Tweet id=1605277187753607168 text='What did Elon Musk’s poll say he was gonna do in the end leg Twitter?'>,\n",
       " <Tweet id=1605277174893772801 text='Need a whole lot more than that bro.\\n\\nThank the Lord for Elon Musk. https://t.co/DiPliU9eBM'>,\n",
       " <Tweet id=1605277171735560192 text='@SarahAshtonLV @elonmusk I appreciate your good faith, Sarah, but what to you make of this story here?\\nhttps://t.co/JKEFGnGfaC'>,\n",
       " <Tweet id=1605277166786289664 text=\"The votes are in! What's next for Elon &amp; Twitter?!?!?\\n\\nDaily Crunch: After Musk puts it to a vote, 57% of #Twitter poll respondents tell him to resign https://t.co/aGra22CRuK\">,\n",
       " <Tweet id=1605277159010062350 text='@DucksSoCal2016 @business Yep, guns are bad, deduct points from ESG. Ukraine war, weapons are great, boost their ESG score.\\n\\nElectric cars, great. Elon Musk calls out ESG, buys twitter, Tesla bad.'>,\n",
       " <Tweet id=1605277137392619532 text='@rdgrongoodnet1 @ChrisBadenhors7 @hodgetwins @elonmusk You don\\'t have to be from the \"left\" to think that Elon Musk was a good businessman, sure, but he\\'s also NOT all the other things his fanboys believe he is and he\\'s really just massive troll and bad influence. He\\'s going to kill his own social media if he keeps at it ...'>,\n",
       " <Tweet id=1605277119721897987 text=\"@wtlewisii @RossRugger @CollinRugg Zip2 had fund from Elon's Father, Erol musk, who brought $28.000 (today around $50.000).\\nX had Bill Harris as a CEO. Paypal already existed and was more popular, they merged to avoid competition. Musk was then appointed as CEO and fucked up a lot of shit.\\n\\nLesson is: Start rich.\">,\n",
       " <Tweet id=1605277116240695297 text=\"@DerekSherratt @TraceyR64968698 @JoJoWildBlonde @buntybagshoe I'd like to see Elon Musk running it. There'd be about 300,000 fewer administrators and we could then have all the well paid doctors and nurses we wanted\">,\n",
       " <Tweet id=1605277114932293633 text='Elon Musk ticks all the boxes of the globalists cult\\nhttps://t.co/Hp5TNoPeb8'>,\n",
       " <Tweet id=1605277110058340356 text=\"aka rich crazy guy w/o mgmt trained to buffer him is screwing it up\\n\\nAn advance in Tesla shares following Elon Musk’s suggestion that he may step back from Twitter faded as investors brace for lasting fallout from Elon's Twitter purchase https://t.co/Vk4yh5rt47 via @markets\">,\n",
       " <Tweet id=1605277109026447361 text='Elon Musk Promises to Step Down as Head of Twitter — Edward Snowden Throws His Name in the Hat for CEO https://t.co/gqJuMb1nV6'>,\n",
       " <Tweet id=1605277108246290432 text='Elon Musk Proposed Poll Tax For Twitter After Losing CEO Vote https://t.co/CJ72Rr436T'>,\n",
       " <Tweet id=1605277099526606848 text=\"@eyed_0 @TomFitton @Meta @Google @elonmusk @Twitter No, I refuse to do Elon Musk's homework. If he cannot point to facts that support his claims, then I have to assume these alleged facts do not exist.\">,\n",
       " <Tweet id=1605277084791836676 text='@elonmusk @SawyerMerritt @davidfaber ChatGPT:  Write a news story about Elon Musk looking for a new CEO. Be sure to angle it so Musk looks completely incompetent and incapable of balancing a checkbook, much less running a company.'>,\n",
       " <Tweet id=1605277071453786112 text='Elon Musk can go fuck himself https://t.co/vroCgQyVCk'>,\n",
       " <Tweet id=1605277052847984640 text='@anarcoya @SnoopDogg @anneueji rinha snoop dogg e elon musk'>,\n",
       " <Tweet id=1605277043159187456 text='There’s a puppy named Elon Musk and he’s on the euthanasia list for tomorrow afternoon if he’s not adopted soon. This is so depressing. I’d take him if I could.'>,\n",
       " <Tweet id=1605277042529820673 text='Elon Musk considering using old Chevy ad \"Like a rock\" to illustrate Tesla stock fall.'>,\n",
       " <Tweet id=1605277036913762311 text='Elon Musk may soon be on the lookout for a new chief executive to run Twitter.  https://t.co/A0Jljnjqf6'>,\n",
       " <Tweet id=1605277033461841920 text='THEIR DAYS OR TYRANNY ARE NUMBERED...\\nTHANKS TO ELON MUSK... https://t.co/DbjKVJaAmn'>,\n",
       " <Tweet id=1605277032291749888 text=\"Elon musk is like, let's take it far! Me taking it too far everytime and him being like, not that far\">,\n",
       " <Tweet id=1605277028579954688 text='“The findings... debunk the results of Elon Musk’s Twitter poll on whether or not he should step down as CEO, and provide a representative, statistically-relevant perspective of what Twitter users and Americans think of his leadership. A majority would like Mr. Musk to remain...\"'>,\n",
       " <Tweet id=1605277024754585616 text='Elon Musk just accused Chair of House Intelligence Adam Schiff of approving covert censorship “in direct violation of the Constitution.”\\n\\nWill Schiff deny this accusation or does he know Elon has the receipts?\\n\\n🤔'>,\n",
       " <Tweet id=1605277012821671939 text=\"@elonmusk Which is a miniscule fraction compared to what you've been given/paid by that very same government -  $4.9 BILLION as of 2015 - https://t.co/7ZpJ58VYXo\">,\n",
       " <Tweet id=1605277011781500929 text='With this tweet from Elon Musk, the publications Newspapers are losing readers..👇🏼@elonmusk https://t.co/9yvC3Xp9i2'>,\n",
       " <Tweet id=1605277005288718336 text='\"Elon Musk should remain Twitter CEO to keep up the free speech fight\" (Peek).  \"Elon To Stay As Twitter CEO After Counting Mail-In Votes\" (Babylon Bee).'>,\n",
       " <Tweet id=1605276980596953088 text='TWEETER USERS HAVE SPOKEN\\n\\nTwitter users, in a poll posted by Elon Musk himself, said Musk should step down from his role as the company’s chief executive'>,\n",
       " <Tweet id=1605276979867041793 text='@thehill @RepAdamSchiff I guess the big problem is Elon Musk firing the FBI operatives at Twitter??'>,\n",
       " <Tweet id=1605276977275015168 text='@elonmusk mars 6ea sir elon musk'>,\n",
       " <Tweet id=1605276970308161536 text='@WholeMarsBlog You think there are just random people that can get that close to Elon musk in Qatar at the world cup finals?'>,\n",
       " <Tweet id=1605276966386651136 text='Breaking News. Elon Musk sells $3.58B worth of Tesla shares USA News\\xa0Today https://t.co/oWx1Ot3AFS'>,\n",
       " <Tweet id=1605276965631823872 text='Jeff Bezos paid $250M for the WaPo. Which was profitable (slipping this year) and actually does enterprise investigative journalism.  Elon Musk paid $44B for the wildly unprofitable Twitter that does zero news but is the top journo site to scan breaking news. News is changing.'>,\n",
       " <Tweet id=1605276961554968576 text='@elonmusk Should Elon Musk shut up and leave us alone.'>,\n",
       " <Tweet id=1605276956890746889 text='A live view of Elon Musk and Twitter Users. https://t.co/u0KtqNAeNv https://t.co/xWAluMVPmD'>,\n",
       " <Tweet id=1605276945981132800 text=\"In our last issue of Inside Out before 2023, we chat through the tech industry's fascination with Elon Musk, the Department of Justice's indictment of a social media stock scheme, and @tiktok_us's distancing from @BytedanceTalk. See you next year! https://t.co/T6SHV93U5q\">,\n",
       " <Tweet id=1605276929506136064 text='“FTC Steps Up Scrutiny of Elon Musk over Twitter Security Concerns”*\\n\\nThe Federal Trade Commission and the Department of Justice are also mentioned in the Class Action Lawsuit filed regarding alleged SEC violations by Oklahoma Firefighters \\n\\n*Bloomberg'>,\n",
       " <Tweet id=1605276924422639628 text='Elon Musk liked this tweet: Good new account.\\n\\nFascinating earlier analysis showing that when there is a divergence between energy prices and energy equities, the divergence generally resolves in the direction of the equities.\\n\\ni.e. Equity mkts are better than commodity mkts at p'>,\n",
       " <Tweet id=1605276924376281088 text='Feeling so sick inside having to like block matt gaetz’s promoted tweets.  We have to let go of Twitter you guys.  I need help doing it it’s been so.  Long.  Goddammit fuck elon musk.  Fuck him forever and ever.  You dull, vacant, socially inept puppet of the world’s worst 🖕🏻'>,\n",
       " <Tweet id=1605276910292029453 text='@forstall_ @TheIncorrectUsr @____Sh4d0w_____ @SmokeyGunn @SameeraKhan Here’s a link to the registration on the FAA website. Came up with a quick google of “Elon musk plane registration.”\\n\\nhttps://t.co/Q84WFcGGXJ'>,\n",
       " <Tweet id=1605276904998588416 text=\"@business That's exactly why we need to protect our industry brands. They influence the global market/economy. You've seen me defend Johnny Depp &amp; Elon Musk. It's not their fault they where seduced and targeted by a dark person who is reckless with their brand and industries.\">,\n",
       " <Tweet id=1605276902159446016 text='Elon musk may be one of the greatest patriots of my lifetime. I realize he is risking everything for his belief in this country so we should all come together to support him. I just wanted to say that i apperciate it. If there is anything i can do lmk. Please dont give up'>,\n",
       " <Tweet id=1605276895582785536 text='Members of the political elite like Elizabeth Warren and Adam Schiff who say that Elon Musk is abusing power need to look in the mirror.'>,\n",
       " <Tweet id=1605276890155065347 text='Elon Musk Faces Severe Backlash After Telling Adam Schiff His ‘Brain is Too Small’ in Now Deleted Tweet https://t.co/Th3DEc6GjS via @NicoleJames https://t.co/dDUGDLM3jl'>,\n",
       " <Tweet id=1605276886187364353 text='Not my brother calling me Elon Musk because of the late hours working 😂😂😂😂😂😂'>,\n",
       " <Tweet id=1605276880726364160 text='A TRUE BLOOD @GOP. It didn’t go the way he wanted so re-do and this time rig it. JFC! \\n\\nAfter Twitter users voted to oust Elon Musk as CEO, he wants to change how polls work - CNN https://t.co/8xCcIF5UDn'>,\n",
       " <Tweet id=1605276879048642563 text=\"Twitter owner and CEO Elon Musk is searching for a new CEO of the company, sources told CNBC's David Faber. https://t.co/uVDKx2Ju1y\">,\n",
       " <Tweet id=1605276869548548098 text='“All In”: MIT Researcher Offers To Run Twitter Without Salary, Elon Musk Replies\\xa0Cheekily https://t.co/VstXQlCNzx'>,\n",
       " <Tweet id=1605276866176339982 text='Seriously, if you still think that Elon Musk (or Ron DeSantis or Donald Trump or, well, just about any of the people who run around talking about \"free speech\") is actually pro-\"free speech,\" then you\\'re just an idiot. There\\'s no other way to put it.'>,\n",
       " <Tweet id=1605276861025595392 text='@navnoor1 @CollinRugg If Elon Musk does step down as Twitter CEO, who do you think would be a better fit for the job? Examples: Blake Masters, Jared Kushner. Or do you have a better candidate?'>,\n",
       " <Tweet id=1605276858047758338 text=\"Starlink can help save Ukraine's economy, too\\n\\n#UKRAINE\\n\\nhttps://t.co/SrmXeFaWWw\">,\n",
       " <Tweet id=1605276856273362945 text=\"The man who Elon Musk claims stalked his family is coming forward. Brandon Collado says he's an Uber Eats driver and denies stalking the musk family. Last week, Musk said that security was driving his son X when Collado allegedly followed them. https://t.co/Qxdu0oKu7e\">,\n",
       " <Tweet id=1605276854994231296 text='How would you have done in trivia this morning? 👀\\n\\nDoug in MI, listening on @WGRD, took on @hotwingsfbhw in a $600 round of Dumber Than The Show Trivia!\\n\\nClick the link below to see the full game and answers.\\n\\nhttps://t.co/pPhbyU0YjW https://t.co/gckYLzB4QH'>,\n",
       " <Tweet id=1605276851856740353 text=\"Today's AM800 Newspoll question:\\n\\nShould Elon Musk step down as the head of Twitter?\\n\\nVote here: https://t.co/HOVjpmWmNd https://t.co/7gHtiPI1iH\">,\n",
       " <Tweet id=1605276836656816128 text='@Dream elon musk finally knocking sense into yall'>,\n",
       " <Tweet id=1605276829324959745 text='@StrphanieCallo2 @CollinRugg If Elon Musk does step down as Twitter CEO, who do you think would be a better fit for the job? Examples: Blake Masters, Jared Kushner. Or do you have a better candidate?'>,\n",
       " <Tweet id=1605276811566501893 text=\"JUST IN: Elon Musk 'Actively Looking' for New Twitter CEO as He Suggests Poll Was Rigged By 'Bots' https://t.co/9lB8L8x4VW via @mediaite\">,\n",
       " <Tweet id=1605276802007683075 text=\"@TheLeoTerrell At that time Elon Musk had not bought Twitter as of yet therefore Trump's twitters were probably all deleted\">,\n",
       " <Tweet id=1605276801491959808 text=\"@TheLeoTerrell At that time Elon Musk had not bought Twitter as of yet therefore Trump's twitters were probably all deleted\">,\n",
       " <Tweet id=1605276791299575810 text=\"I've just suggested to Lavarov, that he should apply! Neither he nor Elon have the social awareness to succeed.\\nThe Independent: Elon Musk news – live: Twitter CEO ‘actively searching’ for replacement after users vote to oust him.\\nhttps://t.co/OQYe7ArDHV\\n\\nvia @GoogleNews\">,\n",
       " <Tweet id=1605276789764677632 text='@DerekHolley @CollinRugg @elonmusk If Elon Musk does step down as Twitter CEO, who do you think would be a better fit for the job? Examples: Blake Masters, Jared Kushner. Or do you have a better candidate?'>,\n",
       " <Tweet id=1605276783032823808 text='@cenkuygur @TheYoungTurks Donald Trump or Elon Musk, would be my picks.'>,\n",
       " <Tweet id=1605276780721590283 text='\"Tesla\\'s brand and public image have been damaged by Musk\\'s recent behavior and public statement, putting its growth narrative at risk.\"\\n\\nCan Tesla Survive Without The Myth Of Elon Musk? - via @SeekingAlpha $TSLA $TSLAQ\\nhttps://t.co/nxqo8ivMcP'>,\n",
       " <Tweet id=1605276775600488448 text='Elon Musk, STAY IN CHARGE!'>,\n",
       " <Tweet id=1605276769787039758 text='@CollinRugg Tesla has been harmed by Elon Musk owning Twitter.'>,\n",
       " <Tweet id=1605276758982262784 text=\"Elon Musk 'actively looking' for Twitter CEO to replace him: report https://t.co/BD7BLjN6gw via @nypost\">,\n",
       " <Tweet id=1605276754947579908 text='Is Elon Musk banning CNN, NYT and WaPo journalists. The answer is YES but why Elon https://t.co/ToyjspUDd9'>,\n",
       " <Tweet id=1605276754461200385 text='@MikeCourville @CollinRugg If Elon Musk does step down as Twitter CEO, who do you think would be a better fit for the job? Examples: Blake Masters, Jared Kushner. Or do you have a better candidate?'>,\n",
       " <Tweet id=1605276746827567105 text='@elonmusk Take cover. Count down to two giant egos about to explode. \\nhttps://t.co/fMlzfUL2NN'>,\n",
       " <Tweet id=1605276743308304385 text='How 2022 killed the myth of the tech genius\\n\\n#BILLIONAIRE\\n\\nhttps://t.co/gfnvOpMPb9'>,\n",
       " <Tweet id=1605276742536634369 text='Snoop Dogg Sad Message To Elon Musk Leaks https://t.co/nAIQhsID7u https://t.co/FMgeZ237Xp'>,\n",
       " <Tweet id=1605276738677887000 text='Live shot of Elon Musk at Twitter HQ:\\n\"HELLO? MISTER JOHNSON? WOULD YOU LIKE TO BE CEO OF TWITTER, MISTER JOHNSON? HELLO??\" https://t.co/hRkFRohQMc'>,\n",
       " <Tweet id=1605276726023553024 text=\"@thehill The US is actively being harmed by Elon Musk and his out of control ego. He doesn't like Elizabeth Warren because she wants to tax him\">,\n",
       " <Tweet id=1605276717647646723 text='@NiliSaar72 @CountVictor @DavidCornDC But what does Saudi Arabia have to do with Elon Musk and Jared Kushner watching the World Cup final in Qatar?'>,\n",
       " <Tweet id=1605276717182078995 text='I’m a Tesla Investor. Elon Musk Is a Danger to the Company. - The Daily Beast “Twitter antics makes it harder to trust him running a business “  https://t.co/gM3by6OOmB'>,\n",
       " <Tweet id=1605276715751968769 text='@elonmusk CNN BREAKING NEWS: Elon musk said Newspapers just search the Internet and print it out – SJM'>,\n",
       " <Tweet id=1605276708562931713 text='Twitter: Elon Musk ‘has been brilliant,’ professor says https://t.co/N22oqA0uGC'>,\n",
       " <Tweet id=1605276708273147904 text='@DonaldWallen17 @CollinRugg If Elon Musk does step down as Twitter CEO, who do you think would be a better fit for the job? Examples: Blake Masters, Jared Kushner. Or do you have a better candidate?'>]"
      ]
     },
     "execution_count": 5,
     "metadata": {},
     "output_type": "execute_result"
    }
   ],
   "source": [
    "# get the data\n",
    "tweets_musk = client.search_recent_tweets(\n",
    "    query = \"Elon Musk -is:retweet lang:en\",  # searches for #WPP while ignoring retweets\n",
    "    max_results = 100\n",
    ")\n",
    "\n",
    "tweets_musk.data"
   ]
  },
  {
   "cell_type": "code",
   "execution_count": 6,
   "id": "d109e337",
   "metadata": {},
   "outputs": [
    {
     "data": {
      "text/plain": [
       "['Elon Musk: how scary is it to be pulled out by cops?\\n\\nalso Elon Musk : only white people are allowed to answer!',\n",
       " 'Elon Musk seeks to sell Twitter shares in search of new funds. Investors approached to purchase stock at $54.20 buyout price as social media\\xa0. https://t.co/1zAqUQSeZg',\n",
       " '@SanteSuzie ELON MUSK IS SO INTELLIGENT, TALENTED, SUCCESSFUL, HANDSOME &amp; SEXY, (STUD), GENIUS, BEAUTIFUL WINNING SMILE, AWESOME TESLA, &amp; A VERY SEXY BIG D SPACE X ROCKET!!!!!!! THANK YOU 😊🙏',\n",
       " '@andst7 @elonmusk @Corriere I support an Italian newspaper. Elon Musk is a worthy candidate for the title of person of the year.',\n",
       " \"Fact check: No, Elon Musk isn't buying Meta. A viral video is altered - USA TODAY https://t.co/seW8y8e6aE #BusinessProposal\",\n",
       " '\"Owners also bear an ethical responsibility to strike a balance, protecting speech and safety at the same time. Mr. Musk has made a mockery of the enterprise, caring about speech only when it’s his own speech and safety only when it’s his own safety.\"\\n https://t.co/4krfU8K56f',\n",
       " '@DineshDSouza Pure genius. Elon Musk again finds a way to clean up the bots on Twitter.',\n",
       " \"@DavidfromMd2 That being said, the idea that TSLA should go down based on the fact that some libs don't like that Elon Musk says stuff with which they disagree is exceedingly silly.\",\n",
       " 'I just had a dream Elon Musk bought Valve and I was banned from Steam. I was like \"why Gabe why would you sell?\"',\n",
       " '@RepAdamSchiff Elon musk is correct, your brain is too small',\n",
       " \"@Maikasuwainyam4 @cuppymusic She wan rip person Elon musk's glory e no proper🤣\",\n",
       " '\"Owners also bear an ethical responsibility to strike a balance, protecting speech and safety at the same time. Mr. Musk has made a mockery of the enterprise, caring about speech only when it’s his own speech and safety only when it’s his own safety.\"\\n https://t.co/4krfU92ekn',\n",
       " 'NOT MY PSYCHOLOGY TEACHER TALKINF ABOUT ELON MUSK BUYING TWITTER AS PART OF THE LESSON HAHAHAHAHAHAH',\n",
       " '@danualthemanual @honestsportz @CultureCrave so hating Elon musk because he was born to white pepo in Africa is based. You know what, I was wrong. This actually makes so much sense, I agree that he is an evil fascist because he happened to be born to white people. He was racist before being conceived and he willingly did it',\n",
       " 'Twitter Is Spiraling Down the Drain of Elon Musk’s Manic Narcissism\\n#elonmusknarcissist https://t.co/Hcxc81qhns',\n",
       " 'semi regular report on the elon musk anti-spam crusade\\n\\nI now have to hide at least one tweet per day in the F# community here (under \"Communities\") due to spam. Never was an issue before he took over',\n",
       " 'BREAKING: Elon Musk Hints that Poll About Him Stepping Down as Twitter CEO Was a Trick... https://t.co/daYs2znQ9u',\n",
       " \"@elonmusk Take cover. Count down to two giant egos about to explode. We hope there is no collateral damage, but like all sociopaths, they don't care how many innocents they take with them.\\nhttps://t.co/fMlzfUL2NN\",\n",
       " '@elonmusk Why would we expect anything you say as truth?\\nhttps://t.co/WqdnXnndAn',\n",
       " '@MarioNawfal Q. Why is twitter suddenly so addictive???\\n\\nA. Elon Musk brought in a new drama.  Without trying he became a polorizing figure.   He also was responsible for getting rid of a lot the \"bots\"(fake accounts controlled by AI... artificial intelligence.)',\n",
       " \"@themouthmatusow @elonmusk Right on you are 100% correct they rigged the election and they're destroying this country let's get the crap out of this country and that's not Donald Trump and that's not Elon Musk that's the communist or controlling us now or trying to.\",\n",
       " 'What a fulfilling life Elon Musk has had. Even the greatest before him have never “occasioned” to find their purpose as soon as they found the money. \\nThen again, perhaps he knew the purpose before he found the money.',\n",
       " 'Tesla stock concerns go beyond Elon Musk multitasking at Twitter: Analyst https://t.co/soMia47699 🤔',\n",
       " 'What did Elon Musk’s poll say he was gonna do in the end leg Twitter?',\n",
       " 'Need a whole lot more than that bro.\\n\\nThank the Lord for Elon Musk. https://t.co/DiPliU9eBM',\n",
       " '@SarahAshtonLV @elonmusk I appreciate your good faith, Sarah, but what to you make of this story here?\\nhttps://t.co/JKEFGnGfaC',\n",
       " \"The votes are in! What's next for Elon &amp; Twitter?!?!?\\n\\nDaily Crunch: After Musk puts it to a vote, 57% of #Twitter poll respondents tell him to resign https://t.co/aGra22CRuK\",\n",
       " '@DucksSoCal2016 @business Yep, guns are bad, deduct points from ESG. Ukraine war, weapons are great, boost their ESG score.\\n\\nElectric cars, great. Elon Musk calls out ESG, buys twitter, Tesla bad.',\n",
       " '@rdgrongoodnet1 @ChrisBadenhors7 @hodgetwins @elonmusk You don\\'t have to be from the \"left\" to think that Elon Musk was a good businessman, sure, but he\\'s also NOT all the other things his fanboys believe he is and he\\'s really just massive troll and bad influence. He\\'s going to kill his own social media if he keeps at it ...',\n",
       " \"@wtlewisii @RossRugger @CollinRugg Zip2 had fund from Elon's Father, Erol musk, who brought $28.000 (today around $50.000).\\nX had Bill Harris as a CEO. Paypal already existed and was more popular, they merged to avoid competition. Musk was then appointed as CEO and fucked up a lot of shit.\\n\\nLesson is: Start rich.\",\n",
       " \"@DerekSherratt @TraceyR64968698 @JoJoWildBlonde @buntybagshoe I'd like to see Elon Musk running it. There'd be about 300,000 fewer administrators and we could then have all the well paid doctors and nurses we wanted\",\n",
       " 'Elon Musk ticks all the boxes of the globalists cult\\nhttps://t.co/Hp5TNoPeb8',\n",
       " \"aka rich crazy guy w/o mgmt trained to buffer him is screwing it up\\n\\nAn advance in Tesla shares following Elon Musk’s suggestion that he may step back from Twitter faded as investors brace for lasting fallout from Elon's Twitter purchase https://t.co/Vk4yh5rt47 via @markets\",\n",
       " 'Elon Musk Promises to Step Down as Head of Twitter — Edward Snowden Throws His Name in the Hat for CEO https://t.co/gqJuMb1nV6',\n",
       " 'Elon Musk Proposed Poll Tax For Twitter After Losing CEO Vote https://t.co/CJ72Rr436T',\n",
       " \"@eyed_0 @TomFitton @Meta @Google @elonmusk @Twitter No, I refuse to do Elon Musk's homework. If he cannot point to facts that support his claims, then I have to assume these alleged facts do not exist.\",\n",
       " '@elonmusk @SawyerMerritt @davidfaber ChatGPT:  Write a news story about Elon Musk looking for a new CEO. Be sure to angle it so Musk looks completely incompetent and incapable of balancing a checkbook, much less running a company.',\n",
       " 'Elon Musk can go fuck himself https://t.co/vroCgQyVCk',\n",
       " '@anarcoya @SnoopDogg @anneueji rinha snoop dogg e elon musk',\n",
       " 'There’s a puppy named Elon Musk and he’s on the euthanasia list for tomorrow afternoon if he’s not adopted soon. This is so depressing. I’d take him if I could.',\n",
       " 'Elon Musk considering using old Chevy ad \"Like a rock\" to illustrate Tesla stock fall.',\n",
       " 'Elon Musk may soon be on the lookout for a new chief executive to run Twitter.  https://t.co/A0Jljnjqf6',\n",
       " 'THEIR DAYS OR TYRANNY ARE NUMBERED...\\nTHANKS TO ELON MUSK... https://t.co/DbjKVJaAmn',\n",
       " \"Elon musk is like, let's take it far! Me taking it too far everytime and him being like, not that far\",\n",
       " '“The findings... debunk the results of Elon Musk’s Twitter poll on whether or not he should step down as CEO, and provide a representative, statistically-relevant perspective of what Twitter users and Americans think of his leadership. A majority would like Mr. Musk to remain...\"',\n",
       " 'Elon Musk just accused Chair of House Intelligence Adam Schiff of approving covert censorship “in direct violation of the Constitution.”\\n\\nWill Schiff deny this accusation or does he know Elon has the receipts?\\n\\n🤔',\n",
       " \"@elonmusk Which is a miniscule fraction compared to what you've been given/paid by that very same government -  $4.9 BILLION as of 2015 - https://t.co/7ZpJ58VYXo\",\n",
       " 'With this tweet from Elon Musk, the publications Newspapers are losing readers..👇🏼@elonmusk https://t.co/9yvC3Xp9i2',\n",
       " '\"Elon Musk should remain Twitter CEO to keep up the free speech fight\" (Peek).  \"Elon To Stay As Twitter CEO After Counting Mail-In Votes\" (Babylon Bee).',\n",
       " 'TWEETER USERS HAVE SPOKEN\\n\\nTwitter users, in a poll posted by Elon Musk himself, said Musk should step down from his role as the company’s chief executive',\n",
       " '@thehill @RepAdamSchiff I guess the big problem is Elon Musk firing the FBI operatives at Twitter??',\n",
       " '@elonmusk mars 6ea sir elon musk',\n",
       " '@WholeMarsBlog You think there are just random people that can get that close to Elon musk in Qatar at the world cup finals?',\n",
       " 'Breaking News. Elon Musk sells $3.58B worth of Tesla shares USA News\\xa0Today https://t.co/oWx1Ot3AFS',\n",
       " 'Jeff Bezos paid $250M for the WaPo. Which was profitable (slipping this year) and actually does enterprise investigative journalism.  Elon Musk paid $44B for the wildly unprofitable Twitter that does zero news but is the top journo site to scan breaking news. News is changing.',\n",
       " '@elonmusk Should Elon Musk shut up and leave us alone.',\n",
       " 'A live view of Elon Musk and Twitter Users. https://t.co/u0KtqNAeNv https://t.co/xWAluMVPmD',\n",
       " \"In our last issue of Inside Out before 2023, we chat through the tech industry's fascination with Elon Musk, the Department of Justice's indictment of a social media stock scheme, and @tiktok_us's distancing from @BytedanceTalk. See you next year! https://t.co/T6SHV93U5q\",\n",
       " '“FTC Steps Up Scrutiny of Elon Musk over Twitter Security Concerns”*\\n\\nThe Federal Trade Commission and the Department of Justice are also mentioned in the Class Action Lawsuit filed regarding alleged SEC violations by Oklahoma Firefighters \\n\\n*Bloomberg',\n",
       " 'Elon Musk liked this tweet: Good new account.\\n\\nFascinating earlier analysis showing that when there is a divergence between energy prices and energy equities, the divergence generally resolves in the direction of the equities.\\n\\ni.e. Equity mkts are better than commodity mkts at p',\n",
       " 'Feeling so sick inside having to like block matt gaetz’s promoted tweets.  We have to let go of Twitter you guys.  I need help doing it it’s been so.  Long.  Goddammit fuck elon musk.  Fuck him forever and ever.  You dull, vacant, socially inept puppet of the world’s worst 🖕🏻',\n",
       " '@forstall_ @TheIncorrectUsr @____Sh4d0w_____ @SmokeyGunn @SameeraKhan Here’s a link to the registration on the FAA website. Came up with a quick google of “Elon musk plane registration.”\\n\\nhttps://t.co/Q84WFcGGXJ',\n",
       " \"@business That's exactly why we need to protect our industry brands. They influence the global market/economy. You've seen me defend Johnny Depp &amp; Elon Musk. It's not their fault they where seduced and targeted by a dark person who is reckless with their brand and industries.\",\n",
       " 'Elon musk may be one of the greatest patriots of my lifetime. I realize he is risking everything for his belief in this country so we should all come together to support him. I just wanted to say that i apperciate it. If there is anything i can do lmk. Please dont give up',\n",
       " 'Members of the political elite like Elizabeth Warren and Adam Schiff who say that Elon Musk is abusing power need to look in the mirror.',\n",
       " 'Elon Musk Faces Severe Backlash After Telling Adam Schiff His ‘Brain is Too Small’ in Now Deleted Tweet https://t.co/Th3DEc6GjS via @NicoleJames https://t.co/dDUGDLM3jl',\n",
       " 'Not my brother calling me Elon Musk because of the late hours working 😂😂😂😂😂😂',\n",
       " 'A TRUE BLOOD @GOP. It didn’t go the way he wanted so re-do and this time rig it. JFC! \\n\\nAfter Twitter users voted to oust Elon Musk as CEO, he wants to change how polls work - CNN https://t.co/8xCcIF5UDn',\n",
       " \"Twitter owner and CEO Elon Musk is searching for a new CEO of the company, sources told CNBC's David Faber. https://t.co/uVDKx2Ju1y\",\n",
       " '“All In”: MIT Researcher Offers To Run Twitter Without Salary, Elon Musk Replies\\xa0Cheekily https://t.co/VstXQlCNzx',\n",
       " 'Seriously, if you still think that Elon Musk (or Ron DeSantis or Donald Trump or, well, just about any of the people who run around talking about \"free speech\") is actually pro-\"free speech,\" then you\\'re just an idiot. There\\'s no other way to put it.',\n",
       " '@navnoor1 @CollinRugg If Elon Musk does step down as Twitter CEO, who do you think would be a better fit for the job? Examples: Blake Masters, Jared Kushner. Or do you have a better candidate?',\n",
       " \"Starlink can help save Ukraine's economy, too\\n\\n#UKRAINE\\n\\nhttps://t.co/SrmXeFaWWw\",\n",
       " \"The man who Elon Musk claims stalked his family is coming forward. Brandon Collado says he's an Uber Eats driver and denies stalking the musk family. Last week, Musk said that security was driving his son X when Collado allegedly followed them. https://t.co/Qxdu0oKu7e\",\n",
       " 'How would you have done in trivia this morning? 👀\\n\\nDoug in MI, listening on @WGRD, took on @hotwingsfbhw in a $600 round of Dumber Than The Show Trivia!\\n\\nClick the link below to see the full game and answers.\\n\\nhttps://t.co/pPhbyU0YjW https://t.co/gckYLzB4QH',\n",
       " \"Today's AM800 Newspoll question:\\n\\nShould Elon Musk step down as the head of Twitter?\\n\\nVote here: https://t.co/HOVjpmWmNd https://t.co/7gHtiPI1iH\",\n",
       " '@Dream elon musk finally knocking sense into yall',\n",
       " '@StrphanieCallo2 @CollinRugg If Elon Musk does step down as Twitter CEO, who do you think would be a better fit for the job? Examples: Blake Masters, Jared Kushner. Or do you have a better candidate?',\n",
       " \"JUST IN: Elon Musk 'Actively Looking' for New Twitter CEO as He Suggests Poll Was Rigged By 'Bots' https://t.co/9lB8L8x4VW via @mediaite\",\n",
       " \"@TheLeoTerrell At that time Elon Musk had not bought Twitter as of yet therefore Trump's twitters were probably all deleted\",\n",
       " \"@TheLeoTerrell At that time Elon Musk had not bought Twitter as of yet therefore Trump's twitters were probably all deleted\",\n",
       " \"I've just suggested to Lavarov, that he should apply! Neither he nor Elon have the social awareness to succeed.\\nThe Independent: Elon Musk news – live: Twitter CEO ‘actively searching’ for replacement after users vote to oust him.\\nhttps://t.co/OQYe7ArDHV\\n\\nvia @GoogleNews\",\n",
       " '@DerekHolley @CollinRugg @elonmusk If Elon Musk does step down as Twitter CEO, who do you think would be a better fit for the job? Examples: Blake Masters, Jared Kushner. Or do you have a better candidate?',\n",
       " '@cenkuygur @TheYoungTurks Donald Trump or Elon Musk, would be my picks.',\n",
       " '\"Tesla\\'s brand and public image have been damaged by Musk\\'s recent behavior and public statement, putting its growth narrative at risk.\"\\n\\nCan Tesla Survive Without The Myth Of Elon Musk? - via @SeekingAlpha $TSLA $TSLAQ\\nhttps://t.co/nxqo8ivMcP',\n",
       " 'Elon Musk, STAY IN CHARGE!',\n",
       " '@CollinRugg Tesla has been harmed by Elon Musk owning Twitter.',\n",
       " \"Elon Musk 'actively looking' for Twitter CEO to replace him: report https://t.co/BD7BLjN6gw via @nypost\",\n",
       " 'Is Elon Musk banning CNN, NYT and WaPo journalists. The answer is YES but why Elon https://t.co/ToyjspUDd9',\n",
       " '@MikeCourville @CollinRugg If Elon Musk does step down as Twitter CEO, who do you think would be a better fit for the job? Examples: Blake Masters, Jared Kushner. Or do you have a better candidate?',\n",
       " '@elonmusk Take cover. Count down to two giant egos about to explode. \\nhttps://t.co/fMlzfUL2NN',\n",
       " 'How 2022 killed the myth of the tech genius\\n\\n#BILLIONAIRE\\n\\nhttps://t.co/gfnvOpMPb9',\n",
       " 'Snoop Dogg Sad Message To Elon Musk Leaks https://t.co/nAIQhsID7u https://t.co/FMgeZ237Xp',\n",
       " 'Live shot of Elon Musk at Twitter HQ:\\n\"HELLO? MISTER JOHNSON? WOULD YOU LIKE TO BE CEO OF TWITTER, MISTER JOHNSON? HELLO??\" https://t.co/hRkFRohQMc',\n",
       " \"@thehill The US is actively being harmed by Elon Musk and his out of control ego. He doesn't like Elizabeth Warren because she wants to tax him\",\n",
       " '@NiliSaar72 @CountVictor @DavidCornDC But what does Saudi Arabia have to do with Elon Musk and Jared Kushner watching the World Cup final in Qatar?',\n",
       " 'I’m a Tesla Investor. Elon Musk Is a Danger to the Company. - The Daily Beast “Twitter antics makes it harder to trust him running a business “  https://t.co/gM3by6OOmB',\n",
       " '@elonmusk CNN BREAKING NEWS: Elon musk said Newspapers just search the Internet and print it out – SJM',\n",
       " 'Twitter: Elon Musk ‘has been brilliant,’ professor says https://t.co/N22oqA0uGC',\n",
       " '@DonaldWallen17 @CollinRugg If Elon Musk does step down as Twitter CEO, who do you think would be a better fit for the job? Examples: Blake Masters, Jared Kushner. Or do you have a better candidate?']"
      ]
     },
     "execution_count": 6,
     "metadata": {},
     "output_type": "execute_result"
    }
   ],
   "source": [
    "# make an empty list for the tweets\n",
    "musk_tweets = []\n",
    "for tweet in tweets_musk.data:\n",
    "    musk_tweets.append(tweet.text)\n",
    "    \n",
    "musk_tweets"
   ]
  },
  {
   "cell_type": "code",
   "execution_count": 7,
   "id": "51123fe8",
   "metadata": {},
   "outputs": [
    {
     "data": {
      "text/plain": [
       "[<Tweet id=1605277174843310080 text='Dear Activists. Here is something you should know about Greta Thunberg, climate change activist. She founded a movement called Fridays for Future, also called School Strike form Climate in 2018. She is a amazing activist and is important to our planet.'>,\n",
       " <Tweet id=1605277026583191552 text='@Youallmissedme @BigToeNEV938V @goglentw @cyp_toon They are just a bunch of confused as fuck old men. I am also convinced they are all nonces when it comes to Greta Thunberg, they are obsessed.'>,\n",
       " <Tweet id=1605276777995280384 text=\"@GBNEWS Guess work again, probably a Greta Thunberg supporter in the met Office.\\nThey can't forcast the next 7 days 100%\">,\n",
       " <Tweet id=1605276604166713344 text='‘Blah Blah Blah’: Greta Thunberg Dismisses World Leaders’ #Climate Rhetoric https://t.co/yk51M93NCo via @YouTube'>,\n",
       " <Tweet id=1605273765973205010 text='@Divifilius343 @writerbengt @Rainmaker1973 because a certain group seem to be unhealthily obsessed with what some random guy thinks or says like he has any power.  it gets mentioned in every feed in every thread - almost Greta Thunberg level of obsession.'>,\n",
       " <Tweet id=1605273109044535323 text=\"90% of old man Ska's followers are these people. What happens when you don't shut up about Greta Thunberg.\\n\\nWhat the fuck is the monkey hypnotising us over exactly. https://t.co/uQzKiRqKF8\">,\n",
       " <Tweet id=1605270737228812288 text='@szteffienchen \"Since the climate crisis doesn\\'t exist, how can we expect people to want climate action.\"\\n~ Greta Thunberg\\nhttps://t.co/LreoygwE8A'>,\n",
       " <Tweet id=1605257817455489024 text='@bassfacehertz @HarveyLandecker @PierrePoilievre The “poor” environmentalists… You mean David Suzuki, Al Gore, Leonardo DiCaprio, Greta Thunberg and such?\\nSomebody should set up a charity for them…'>,\n",
       " <Tweet id=1605255386550128640 text=\"@jonkay Now the medical community has been coopted into #ClimateAction think of what Greta Thunberg's followers will understand from this. https://t.co/XwJYfZFRiK #NetZero + #healthcare = #MAiD4You #savetheplanet 🤮\">,\n",
       " <Tweet id=1605253576191668226 text='@Maliceinwonder8 Climate change is real, not Greta thunberg real, no, but real in other ways. She is still an idiot who was only appointed to create mis perception on the subject'>,\n",
       " <Tweet id=1605250571405262848 text='Those who are ignorant or ignoring this man are the same ones who promote Greta Thunberg. https://t.co/W1yu5nNSnI'>,\n",
       " <Tweet id=1605250319541497856 text=\"It's nice to know that Meghan &amp; Harry are continuing to use Their considerable international presence to promote the excellent endeavours of other internationally prominent people, like Greta Thunberg ,&amp; Gloria Steinem, etc, as They are doing in Their new upcoming documentary!!!\">,\n",
       " <Tweet id=1605248098145603585 text=\"@Mohammedmiah_91 @erikfinman I believe a younger, even more annoying person will appear soon, demanding Erik resign immediately for being useless.\\n\\nMy money's on Greta Thunberg. https://t.co/Be8NMgsgQx\">,\n",
       " <Tweet id=1605245421323943937 text=\".@thetalentguru sussex squad #HarryandMeghanOnNetflix\\nProminent female leaders Jacinda Ardern, Greta Thunberg, Justice #RuthBaderGinsberg &amp; Gloria Steinem are set to be featured in Prince Harry and Meghan Markles’ newest Netflix docuseries, 'Live to Lead'.\\nhttps://t.co/8riycyY8sC https://t.co/7sqkvL916h\">,\n",
       " <Tweet id=1605243915292246016 text='@BaronessBruck Good for her &amp; this gives more background on the orig. Perhaps Greta Thunberg will issue a comment too.'>,\n",
       " <Tweet id=1605242854791839744 text='@joysamcyborg @kohliseetu @vivekagnihotri Greta Thunberg University.'>,\n",
       " <Tweet id=1605242343765991424 text='Greta Thunberg: Climate Activist YIV7IIG\\n\\nhttps://t.co/56ZpknZMPn https://t.co/JznRix4VV9'>,\n",
       " <Tweet id=1605239666424565760 text='Greta Thunberg been tryna tell y’all https://t.co/arW3pgxjwR'>,\n",
       " <Tweet id=1605238134177939456 text='Everyone should boycott all future Netflix or other documentary projects of Harry and Meghan. Turn the channel. Don’t support their nonsense. The next one features Greta Thunberg. Reason enough to miss it. https://t.co/tQQytORtJB'>,\n",
       " <Tweet id=1605231789286588423 text='What Greta Thunberg does not understand about climate change | Jordan Pe... https://t.co/3XRWhYd5UE via @YouTube'>,\n",
       " <Tweet id=1605228283636994051 text='@RoyalRundown1 @valentinelow https://t.co/wiu6DjG2Zf\\n\\nDon’t think they even make out they approached her. The Sussexes are fronting the docuseries &amp; are working in conjunction with other organisations. Why only report half truths &amp; not the whole story??'>,\n",
       " <Tweet id=1605228182076116994 text='@tonybarker298 @JRJHealey @ABridgen @RonDeSantisFL @andrewbridgen Yes like it isn’t an important issue to be debated. Not to sound like Greta thunberg or anything but how very dare they???'>,\n",
       " <Tweet id=1605228124211486720 text='@GillGRob @Ohmaggie2022 @Superwhite75 @GBNEWS @ToniaBuxton @narindertweets 😱 I thought that was Greta Thunberg for a minute 😂😂'>,\n",
       " <Tweet id=1605227887279366148 text='@PatriciaTreble Greta Thunberg will not want this association with such hypocritical climate activists, living a high carbon lifestyle in a mansion in drought ridden CA,constantly  flying private jets,living a cloths horse lifestyle.'>,\n",
       " <Tweet id=1605225772544843779 text='@BaronessBruck I highly doubt Greta Thunberg would want this association given the hypocrisy of H&amp;M campaigning as climate activists. Living a high carbon footprint with a mansion in drought ridden CA, flying private jets constantly, let alone a cloths horse lifestyle.'>,\n",
       " <Tweet id=1605225504663293953 text=\"If Greta thunberg's had a nightmare https://t.co/usKDQzuib4\">,\n",
       " <Tweet id=1605220998894456832 text='@10kClimate @great_thunberg Unfair to accuse Greta of all people of stealing future.\\nRelease of Biocides on planetary scale has got to account for something;\\nWe ALREADY have a climate &amp; ecological disaster\\n#BigAg IS #BigOil #IncapableOfGrowingHealthyFood #farFARworsethananyonegivescredit\\n#JustEatSustainably'>,\n",
       " <Tweet id=1605219623074697216 text=\"@Shilisad1 @Sorelle_Arduino @shangalang10 @joannaccherry @UNSRVAW I see, so when the GCs were trying to dogpile Greta Thunberg because they didn't like what she was saying, who was trying to silence who????\">,\n",
       " <Tweet id=1605216935125438465 text='@AnneTifasgae You can trash all women. But three are off limits. Alyssa Milano, Greta Thunberg and Cher! Other than that the rest are pointless. 💯'>,\n",
       " <Tweet id=1605214406530383872 text='@TrudiNewZealand The fact she’s appearing with Greta Thunberg says everything I need to know bout this doco #CompleteBS'>,\n",
       " <Tweet id=1605214058961145862 text='@MidoriPaxton @BBCWorld @UN @antonioguterres Cop15 was meant to be nature’s Paris moment, but Greta Thunberg’s ‘blah, blah, blah’ cry is proving right.'>,\n",
       " <Tweet id=1605213387830530049 text='@ikgeefnooitop ‘You can shove your climate crisis up your arse’: Greta Thunberg sings at Cop26.\\nhttps://t.co/DAHRyXLbDw'>,\n",
       " <Tweet id=1605208137459441665 text='Greta Thunberg’s charity funds Sami fight against British mining company | Indigenous peoples | The Guardian https://t.co/xHMWJUv1Ev'>,\n",
       " <Tweet id=1605206351797538819 text='@sspencerukk greta thunberg eat your heart out'>,\n",
       " <Tweet id=1605205583937822720 text='Live To Lead, the couple’s latest project, will include interviews with inspirational leaders such as New Zealand Prime Minister Jacinda Ardern and activist Greta Thunberg. https://t.co/s1cx2HwNyf'>,\n",
       " <Tweet id=1605201720312795136 text='the elevation of Greta Thunberg to a figure of historic importance has been, frankly, embarrassing \\n\\nI saw a book of histories greatest speeches &amp; she was in there with Jesus Christ\\n\\nHer ultimate trajectory will be more of a Cindy Sheehan https://t.co/4p0EUaXDGl'>,\n",
       " <Tweet id=1605195330970165249 text='@TilghmanChris @TranMariefrance @GDThor1 @ADirtyRottenDog @Paula_Revere33 @marginalrevenue @zazzybritches @Ldogls @vaato5455 @RegVickers @politiolyc @62WalterP @MairScott3 @keriRN @moriartydg @bettypge69 @Cha51brolll19 @CunningSq16 @alice4u2010 @42Gnome @PaulineFulham @Ezim79 @CartistNy @McGeezer71 @ldog562 @bestifusedby55 @bingbingbong500 @KeepsAtIt @Steph_BOCO @SnyderGm @ErodingNewZeala @BandieraNancy @impinkestgirl @patricia_millin @OklahomaPatrio1 @sugar1420 @StevenZap @RonReedwlvslvfr @bobbiejaneV @GreatTammie @gojoe_joe @CirclesSpinning @BonJS0370 @KITTYBAYOUTSFAN @Beleafer1 @doug_in_nc @TJNugent520 @poppij @yolalindayola Good Morning.\\n\\nToday is December 20, 2022.\\n\\nThis is Day 1,117 of the #ClimateEmergency declared by the EU on November 27, 2019.\\n\\nGreta Thunberg’s first, lonely, Skolstrejk för Klimatet was 1,583 days ago.\\n\\nThe entire biosphere owes her a continuing debt of gratitude.'>,\n",
       " <Tweet id=1605195320123883520 text='@MadScientistFF Probably Helen Keller, or if it must be someone alive today, Greta Thunberg or Joy Reid ❤️'>,\n",
       " <Tweet id=1605195168721805313 text='GRETA THUNBERG SIGNED 1ST/1ST FIRST EDITION THE CLIMATE BOOK HARDBACK 📚🖊️ https://t.co/2t64Nv3VjT @eBay https://t.co/Sr1sDCnqPT'>,\n",
       " <Tweet id=1605194652373716992 text=\"East Berlin looks to me the most likely place\\n\\nAnd I'm working to move to Germoney already to have access to weed\\n\\nThat's an antifa-stronghold, Greta Thunberg and Extinction Rebellion even broke the crowd record there.\\n\\nAbsolute trash, smelly women, you know\">,\n",
       " <Tweet id=1605194180631855105 text='The latest Greta Thunberg! https://t.co/bjDWN5LUK4 Thanks to @ReginaBanali #climatecrisis #climate'>,\n",
       " <Tweet id=1605193464143941632 text='Prominent female leaders like Jacinda Ardern and Greta Thunberg to feature in Prince Harry and Meghan Markle’s newest docuseries\\n#HarryandMeghan\\n#LiveToLead\\n#LiveToLeadNetflix\\nhttps://t.co/kUCCYqrRWs'>,\n",
       " <Tweet id=1605193446477668353 text=\"#ClimateCrisis  #ClimateAction   #GlobalWarming #FridaysForFuture     #ClimateChange  #Greenwashing #Renewables   #ClimateStrike   #ExtinctionRebellion         \\n\\nYou've been fooled by Greta Thunberg: https://t.co/kCLzmsXi1Z\">,\n",
       " <Tweet id=1605193225194577922 text='@ToniMcNeill7 @great_thunberg Greta Thunberg has zero actual affiliation with this account you evil scumbag. She’s off doing her thing'>,\n",
       " <Tweet id=1605191285681410048 text='\"Thunberg explains that if everyone were to adopt a plant-based diet, we would save up to 8 billion tons of carbon dioxide annually and use 76 percent less land.\"\\n\\n#DitchDairy #Vegan \\nhttps://t.co/buqfnsjT52'>,\n",
       " <Tweet id=1605189727103070210 text='Or like Greta thunberg who bern passed around and touched more times than all the rest room door handles at all the Trump rallies combined https://t.co/fwGPNwcU9V'>,\n",
       " <Tweet id=1605186781049389057 text=\"@Independent @Independent why on earth do you normalise knuckle-scraping middle age men by printing offensive quotes 'Greta Thunberg will be pleased' as if it is acceptable language? You should exercise some editorial control over the misogynistic quotes you print. Inexusable! Aim higher.\">,\n",
       " <Tweet id=1605186345739001856 text=\"Dear Activists. Here is something you should know about Greta Thunberg, climate change activist. Thunberg has a collection of speeches called 'No One Is Too Small To Make A Difference'. She is a amazing activist and is important to our planet.\">,\n",
       " <Tweet id=1605186261261504513 text='The series will feature inspirational leaders such as Greta Thunberg https://t.co/zafjLN0scZ'>,\n",
       " <Tweet id=1605181656465301506 text='@sophielouisecc Greta Thunberg?...an ANTIFA activist and Anarchist.\\nThrown out of school as unteachable and a disruptive influence on the other kids\\nTerrorised millions of children by claiming they would all die in flames...\\nSeriously?\\nH&amp;M are deluded, and trying to gain sectional support.'>,\n",
       " <Tweet id=1605180542584225800 text='Greta Thunberg Joins Youth Activists on TIME Panel at\\xa0Davos https://t.co/Bkg2UwjFji'>,\n",
       " <Tweet id=1605176300703973376 text='@jessicaelgot @carolinenokes This is good to see but Clarkson has form. Remember his hatred of Greta Thunberg and saying she needed smacking? He is part of a misogynistic team of right wing hate in our modern media'>,\n",
       " <Tweet id=1605176071648706561 text=\"@catturd2 I blame Greta Thunberg for not working harder. It's all her fault.\">,\n",
       " <Tweet id=1605174464127586304 text=\"Prominent female leaders like Jacinda Ardern, Greta Thunberg, Justice Ruth Bader Ginsberg and Gloria Steinem are set to be featured in Prince Harry and Meghan Markles’ newest Netflix docuseries, 'Live to Lead'. https://t.co/Wx3sdyInW0\">,\n",
       " <Tweet id=1605173073598095362 text='@jburks63 @howmanyjokesun1 Greta Thunberg is looking real good in this, and it’s okay to say that now that she’s 18+.'>,\n",
       " <Tweet id=1605172407307620352 text=\"Prominent female leaders featured in Prince Harry &amp; Meghan's new show https://t.co/WWo7z34Sy0\">,\n",
       " <Tweet id=1605165272700276739 text='Greta Thunberg Research Activity - Middle School Climate Change PDF Printable FJHSQUG\\n\\nhttps://t.co/0c6Kdmzc4z https://t.co/qbTrbhCxwr'>,\n",
       " <Tweet id=1605161155902709760 text='Meghan was mostly silent as the right attacked Greta Thunberg, then a minor. She only speaks up when it’s a white conservative. \\nhttps://t.co/VN6rUrjuTL https://t.co/cWbbP7Fp17'>,\n",
       " <Tweet id=1605156064579633152 text='Jozi Gold has been nominated for a Cinema for Peace Award, alongside David Attenborough and the Greta Thunberg film. Category: International Green Film Award. https://t.co/Aman3XynsX'>,\n",
       " <Tweet id=1605155999236726786 text='@MeghanMcCain Taylor Lorenz did not target Claudia Conway. I recall conservatives hounding climate activist Greta Thunberg, and you said on The View that it was fine. Conservatives stalked the Obama children, and you said nothing. What changed?'>,\n",
       " <Tweet id=1605154656497373184 text='@JNRaeside He also said Greta Thunberg needed a “smacked bottom”. This plus the gay men’s bottoms plus now the faeces suggest a certain consistency to his anger and outrage.\\n\\nMan, he needs therapy.'>,\n",
       " <Tweet id=1605150772903219201 text='@pegobry @Steve_Sailer @eugyppius1 Malthus ---&gt; Club of Rome ---&gt; Greta Thunberg'>,\n",
       " <Tweet id=1605149259300478977 text=\"new leaks nudes leaked of:\\nSimone Biles \\nKim Kardashian \\nJill Biden \\nTaylor Swift \\nGreta Thunberg .\\nOprah Winfrey \\nMichelle Obama\\nCharli D'Amelio.\\nLoren Gray \\nAddison Rae \\nArishfa Khan\\nKristen Hancher \\nNisha Guragain \\nLiza Koshy\\nhttps://t.co/xmn7UP81E0\">,\n",
       " <Tweet id=1605149199355486209 text='@juicyy_box Such a valid take. At the same time, however, we must be aware of how entitlement manifests itself in young people who are active on the political stage as well (E.G. Greta Thunberg, etc). A new generation of apathetic thinkers is being created.'>,\n",
       " <Tweet id=1605148922254462976 text='@UKAndNIasOne Celebrating inspirational leaders, first up, Greta Thunberg 🤣'>,\n",
       " <Tweet id=1605148606889357317 text='@PatriciaLongw10 Greta Thunberg is not a leader. She is merely a mouthpiece for an organisation. All she does is shout and deliver angry speeches. Surely she can’t agree with the Harkles continual use of private jets. The others I don’t recognise. They all seem to be activists not leaders.'>,\n",
       " <Tweet id=1605148340366319619 text=\"So H&amp;M's next 'docusoap' will celebrate 'leaders' like Greta Thunberg ...🤣🤣\">,\n",
       " <Tweet id=1605147700118552576 text=\"Hey guys I don't wanna speculate on anyone's mental health but I think Greta Thunberg might be autistic? I mean, idk. But I think it's possible.\">,\n",
       " <Tweet id=1605146756689584128 text='@boxmontessori its NOT THEIR PROGRAME IT WAS PRODUCED IN 2019 DOES ANYBODY REALLY THINK THAT GRETA THUNBERG WOULD HAVE ANYTHING TO DO WITH JH&amp;MM &amp; RUTH BADER GINSBERG DIED LAST YEAR SHE WOULD BE TURNING IN HER GRAVE  THEY BOUGHT IT &amp; STUCK THEIR STICKER ON IT &amp; TOOK OVER THE NARRATION ?????????'>,\n",
       " <Tweet id=1605146322125864960 text='Grown men who are triggered by Meghan Markle &amp; Greta Thunberg #Names https://t.co/No1aTln4sR'>,\n",
       " <Tweet id=1605145265157341185 text='@sophielouisecc Greta Thunberg, an inspirational leader? In what universe. She an exploited teenager with delusions of grandeur'>,\n",
       " <Tweet id=1605142615384621060 text='@joannaccherry @UNSRVAW Funny that, when all the \"Womenwontweesht\" yourself included, were utterly silent after the misogynistic and hatefilled attach against Meghan Markle and Nicola Sturgeon. What\\'s wrong - too busy trying to dogpile Greta Thunberg??'>,\n",
       " <Tweet id=1605141084476162048 text='Meghan and Harry to release another Netflix series https://t.co/bK1t1Zu5bh'>,\n",
       " <Tweet id=1605135669331886082 text='I believe the term #BeKind was trending out of respect. The very next day people were posting about inflicting violence on Greta Thunberg https://t.co/s5dXNGdn55'>,\n",
       " <Tweet id=1605133183867035648 text='#PiersMorgan who trolls Meghan Markle and Greta Thunberg is upset https://t.co/xLwSrjWwo5'>,\n",
       " <Tweet id=1605124547203584001 text=\"Greta and the Giants: inspired by Greta Thunberg's stand to save the world O0UTM8W\\n\\nhttps://t.co/LR3S2UiNxp https://t.co/5YBR9EOmvQ\">,\n",
       " <Tweet id=1605124303367946240 text='@Reashelby1 @MailOnline Inspiring leaders: Greta Thunberg &amp; Jacinda Ardern?\\n\\nYawn. \\n\\nAbout as inspirational as a limp lettuce.\\n\\nMore vacuous BS.'>,\n",
       " <Tweet id=1605120328593702913 text=\"@JR42845598 You haven't heard the worst, also on it are Greta Thunberg, Jacinda Ardern the NZ PM, and a female activist Gloria someone who is a friend of Meghan.\">,\n",
       " <Tweet id=1605119907347193856 text=\"Harry and Meghan's jet use questioned as Thunberg appears in clip https://t.co/xNV1Gqwx6U\">,\n",
       " <Tweet id=1605117407231504385 text='behold my collection of stupid conservative memes of greta thunberg specifically in 2065 for some reason https://t.co/xsqqDIQ0Gl'>,\n",
       " <Tweet id=1605116693935951872 text='@GBNEWS Harry and Megan have been inspired by people like Greta Thunberg, Nicola Sturgeon and Harry Potter.'>,\n",
       " <Tweet id=1605116208709353473 text='Right now people are going to freeze to death  because of Greta Thunberg and her ilk pushing the big lie of global warming, cooling, change or whatever the fuck, and European politics. There is enough energy to keep them alive.'>,\n",
       " <Tweet id=1605115787324309506 text='@KEdge23 On a Tory hate rating list high earning leftie footballers are just below Greta Thunberg and just above Harry and Meghan'>,\n",
       " <Tweet id=1605115344443547648 text='From Obama to Putin to Xi Jingping as world leaders to Greta Thunberg and other activists or famous scientists who will yet discover something revolutionary. \\n\\nAll DW historicals leave some artistic freedom to tell a compelling story even if that story isn’t 100% accurate.'>,\n",
       " <Tweet id=1605114843127750656 text='Is it just me or is Gideon just a fatter bearded Greta Thunberg? https://t.co/dadf5iLNtl'>,\n",
       " <Tweet id=1605112312167383042 text=\"If Greta Thunberg was a middle aged, bearded white man he'd have been sectioned long ago. https://t.co/vQFQqxfnAp\">,\n",
       " <Tweet id=1605112043107151874 text=\"@its_the_Dr Greta Thunberg should learn who's childhood was really oppressed and stolen.\">,\n",
       " <Tweet id=1605106655238168578 text=\"#ClimateCrisis #ClimateAction #GlobalWarming   #FridaysForFuture   #ClimateChange  #Renewables #Greenwashing  #ExtinctionRebellion   #ClimateStrike            \\n\\nYou've been fooled by Greta Thunberg: https://t.co/Aa0yXsz6jq\">,\n",
       " <Tweet id=1605102715197014016 text='For everyone who thinks AI art is gunna take over, why did it just produce 4 images of Greta Thunberg here, instead of using the prompt it was given. Checkmate! https://t.co/Z5Mqd45zCd'>,\n",
       " <Tweet id=1605101370968883200 text='@sophielouisecc Greta Thunberg? The Swedish truant who advocates for communism? Good grief.'>,\n",
       " <Tweet id=1605100227437813765 text='@ronin19217435 Greta Thunberg is a fullblown idiot, like the rest of the lefty woke idiots. Climate Change is a natural thing and however small or big our influence is, mankind can never change that, nature follows its own rules and regulations !'>,\n",
       " <Tweet id=1605099499981918209 text='@people Hope they filmed the right Greta Thunberg'>,\n",
       " <Tweet id=1605099093189066752 text='@FissionPhil First it was ‘everyone is wrong except me’ then endless bagging Greta Thunberg and then Megan Markle just to trigger RE hate clicks - now the ‘Twitter Files’? 🚮'>,\n",
       " <Tweet id=1605098426081087490 text='@minoc2 @aSatanSandwich @MorgothArc @GretaThunberg @_DylanHamilton_ Also; Greta Thunberg is more mature, informed and intelligent than any 20 TERF GCs put together.'>,\n",
       " <Tweet id=1605095910530170880 text='This is yet another \"adult\" attempting to ignore the next generations concerns, by now claiming that they are not an adult til 25, especially if you are autistic. FYI this is about Greta Thunberg https://t.co/EVGTVXBw2f'>,\n",
       " <Tweet id=1605095865445519361 text='Dear Twitterverse. Here is something you should know about Greta Thunberg, climate change activist. Greta has her speeches fact checked by scientists\\xa0. She is a talented activist and is important to our planet.'>,\n",
       " <Tweet id=1605094920477442048 text='@sophielouisecc You’ll enlighten us Sophie with your vast intellect as to how you relate Chairman Mao to Jacinda Ardern/Greta Thunberg or is this the right wing Jeremy Clarkson equivalent of using Meghan Markle and Rose West in the same sentence ?'>,\n",
       " <Tweet id=1605093810945785856 text='Harry &amp; Meghan NEW Netflix Documentary Announced with Greta Thunberg &amp; Jacinda Ardern! WTF Is this a JOKE?? \\n\\nhttps://t.co/FWKlIYIsl6 via @YouTube \\n\\n#joke #netflix #HarryAndMeghanNetfix #GretaThunberg #jacindaardern #NelsonMandela'>,\n",
       " <Tweet id=1605093421848330240 text='Royal couple’s net Netflix show features Greta Thunberg, Jacinda\\xa0Ardern https://t.co/5nrCNIDv40'>,\n",
       " <Tweet id=1605090257996840960 text='Royal couple’s net Netflix show features Greta Thunberg, Jacinda\\xa0Ardern https://t.co/5aS79fnOwK'>]"
      ]
     },
     "execution_count": 7,
     "metadata": {},
     "output_type": "execute_result"
    }
   ],
   "source": [
    "# get data\n",
    "tweets_thunberg = client.search_recent_tweets(\n",
    "    query = \"Greta Thunberg -is:retweet lang:en\",  # searches for #WPP while ignoring retweets\n",
    "    max_results = 100\n",
    ")\n",
    "\n",
    "tweets_thunberg.data"
   ]
  },
  {
   "cell_type": "code",
   "execution_count": 8,
   "id": "5a832117",
   "metadata": {},
   "outputs": [
    {
     "data": {
      "text/plain": [
       "['Dear Activists. Here is something you should know about Greta Thunberg, climate change activist. She founded a movement called Fridays for Future, also called School Strike form Climate in 2018. She is a amazing activist and is important to our planet.',\n",
       " '@Youallmissedme @BigToeNEV938V @goglentw @cyp_toon They are just a bunch of confused as fuck old men. I am also convinced they are all nonces when it comes to Greta Thunberg, they are obsessed.',\n",
       " \"@GBNEWS Guess work again, probably a Greta Thunberg supporter in the met Office.\\nThey can't forcast the next 7 days 100%\",\n",
       " '‘Blah Blah Blah’: Greta Thunberg Dismisses World Leaders’ #Climate Rhetoric https://t.co/yk51M93NCo via @YouTube',\n",
       " '@Divifilius343 @writerbengt @Rainmaker1973 because a certain group seem to be unhealthily obsessed with what some random guy thinks or says like he has any power.  it gets mentioned in every feed in every thread - almost Greta Thunberg level of obsession.',\n",
       " \"90% of old man Ska's followers are these people. What happens when you don't shut up about Greta Thunberg.\\n\\nWhat the fuck is the monkey hypnotising us over exactly. https://t.co/uQzKiRqKF8\",\n",
       " '@szteffienchen \"Since the climate crisis doesn\\'t exist, how can we expect people to want climate action.\"\\n~ Greta Thunberg\\nhttps://t.co/LreoygwE8A',\n",
       " '@bassfacehertz @HarveyLandecker @PierrePoilievre The “poor” environmentalists… You mean David Suzuki, Al Gore, Leonardo DiCaprio, Greta Thunberg and such?\\nSomebody should set up a charity for them…',\n",
       " \"@jonkay Now the medical community has been coopted into #ClimateAction think of what Greta Thunberg's followers will understand from this. https://t.co/XwJYfZFRiK #NetZero + #healthcare = #MAiD4You #savetheplanet 🤮\",\n",
       " '@Maliceinwonder8 Climate change is real, not Greta thunberg real, no, but real in other ways. She is still an idiot who was only appointed to create mis perception on the subject',\n",
       " 'Those who are ignorant or ignoring this man are the same ones who promote Greta Thunberg. https://t.co/W1yu5nNSnI',\n",
       " \"It's nice to know that Meghan &amp; Harry are continuing to use Their considerable international presence to promote the excellent endeavours of other internationally prominent people, like Greta Thunberg ,&amp; Gloria Steinem, etc, as They are doing in Their new upcoming documentary!!!\",\n",
       " \"@Mohammedmiah_91 @erikfinman I believe a younger, even more annoying person will appear soon, demanding Erik resign immediately for being useless.\\n\\nMy money's on Greta Thunberg. https://t.co/Be8NMgsgQx\",\n",
       " \".@thetalentguru sussex squad #HarryandMeghanOnNetflix\\nProminent female leaders Jacinda Ardern, Greta Thunberg, Justice #RuthBaderGinsberg &amp; Gloria Steinem are set to be featured in Prince Harry and Meghan Markles’ newest Netflix docuseries, 'Live to Lead'.\\nhttps://t.co/8riycyY8sC https://t.co/7sqkvL916h\",\n",
       " '@BaronessBruck Good for her &amp; this gives more background on the orig. Perhaps Greta Thunberg will issue a comment too.',\n",
       " '@joysamcyborg @kohliseetu @vivekagnihotri Greta Thunberg University.',\n",
       " 'Greta Thunberg: Climate Activist YIV7IIG\\n\\nhttps://t.co/56ZpknZMPn https://t.co/JznRix4VV9',\n",
       " 'Greta Thunberg been tryna tell y’all https://t.co/arW3pgxjwR',\n",
       " 'Everyone should boycott all future Netflix or other documentary projects of Harry and Meghan. Turn the channel. Don’t support their nonsense. The next one features Greta Thunberg. Reason enough to miss it. https://t.co/tQQytORtJB',\n",
       " 'What Greta Thunberg does not understand about climate change | Jordan Pe... https://t.co/3XRWhYd5UE via @YouTube',\n",
       " '@RoyalRundown1 @valentinelow https://t.co/wiu6DjG2Zf\\n\\nDon’t think they even make out they approached her. The Sussexes are fronting the docuseries &amp; are working in conjunction with other organisations. Why only report half truths &amp; not the whole story??',\n",
       " '@tonybarker298 @JRJHealey @ABridgen @RonDeSantisFL @andrewbridgen Yes like it isn’t an important issue to be debated. Not to sound like Greta thunberg or anything but how very dare they???',\n",
       " '@GillGRob @Ohmaggie2022 @Superwhite75 @GBNEWS @ToniaBuxton @narindertweets 😱 I thought that was Greta Thunberg for a minute 😂😂',\n",
       " '@PatriciaTreble Greta Thunberg will not want this association with such hypocritical climate activists, living a high carbon lifestyle in a mansion in drought ridden CA,constantly  flying private jets,living a cloths horse lifestyle.',\n",
       " '@BaronessBruck I highly doubt Greta Thunberg would want this association given the hypocrisy of H&amp;M campaigning as climate activists. Living a high carbon footprint with a mansion in drought ridden CA, flying private jets constantly, let alone a cloths horse lifestyle.',\n",
       " \"If Greta thunberg's had a nightmare https://t.co/usKDQzuib4\",\n",
       " '@10kClimate @great_thunberg Unfair to accuse Greta of all people of stealing future.\\nRelease of Biocides on planetary scale has got to account for something;\\nWe ALREADY have a climate &amp; ecological disaster\\n#BigAg IS #BigOil #IncapableOfGrowingHealthyFood #farFARworsethananyonegivescredit\\n#JustEatSustainably',\n",
       " \"@Shilisad1 @Sorelle_Arduino @shangalang10 @joannaccherry @UNSRVAW I see, so when the GCs were trying to dogpile Greta Thunberg because they didn't like what she was saying, who was trying to silence who????\",\n",
       " '@AnneTifasgae You can trash all women. But three are off limits. Alyssa Milano, Greta Thunberg and Cher! Other than that the rest are pointless. 💯',\n",
       " '@TrudiNewZealand The fact she’s appearing with Greta Thunberg says everything I need to know bout this doco #CompleteBS',\n",
       " '@MidoriPaxton @BBCWorld @UN @antonioguterres Cop15 was meant to be nature’s Paris moment, but Greta Thunberg’s ‘blah, blah, blah’ cry is proving right.',\n",
       " '@ikgeefnooitop ‘You can shove your climate crisis up your arse’: Greta Thunberg sings at Cop26.\\nhttps://t.co/DAHRyXLbDw',\n",
       " 'Greta Thunberg’s charity funds Sami fight against British mining company | Indigenous peoples | The Guardian https://t.co/xHMWJUv1Ev',\n",
       " '@sspencerukk greta thunberg eat your heart out',\n",
       " 'Live To Lead, the couple’s latest project, will include interviews with inspirational leaders such as New Zealand Prime Minister Jacinda Ardern and activist Greta Thunberg. https://t.co/s1cx2HwNyf',\n",
       " 'the elevation of Greta Thunberg to a figure of historic importance has been, frankly, embarrassing \\n\\nI saw a book of histories greatest speeches &amp; she was in there with Jesus Christ\\n\\nHer ultimate trajectory will be more of a Cindy Sheehan https://t.co/4p0EUaXDGl',\n",
       " '@TilghmanChris @TranMariefrance @GDThor1 @ADirtyRottenDog @Paula_Revere33 @marginalrevenue @zazzybritches @Ldogls @vaato5455 @RegVickers @politiolyc @62WalterP @MairScott3 @keriRN @moriartydg @bettypge69 @Cha51brolll19 @CunningSq16 @alice4u2010 @42Gnome @PaulineFulham @Ezim79 @CartistNy @McGeezer71 @ldog562 @bestifusedby55 @bingbingbong500 @KeepsAtIt @Steph_BOCO @SnyderGm @ErodingNewZeala @BandieraNancy @impinkestgirl @patricia_millin @OklahomaPatrio1 @sugar1420 @StevenZap @RonReedwlvslvfr @bobbiejaneV @GreatTammie @gojoe_joe @CirclesSpinning @BonJS0370 @KITTYBAYOUTSFAN @Beleafer1 @doug_in_nc @TJNugent520 @poppij @yolalindayola Good Morning.\\n\\nToday is December 20, 2022.\\n\\nThis is Day 1,117 of the #ClimateEmergency declared by the EU on November 27, 2019.\\n\\nGreta Thunberg’s first, lonely, Skolstrejk för Klimatet was 1,583 days ago.\\n\\nThe entire biosphere owes her a continuing debt of gratitude.',\n",
       " '@MadScientistFF Probably Helen Keller, or if it must be someone alive today, Greta Thunberg or Joy Reid ❤️',\n",
       " 'GRETA THUNBERG SIGNED 1ST/1ST FIRST EDITION THE CLIMATE BOOK HARDBACK 📚🖊️ https://t.co/2t64Nv3VjT @eBay https://t.co/Sr1sDCnqPT',\n",
       " \"East Berlin looks to me the most likely place\\n\\nAnd I'm working to move to Germoney already to have access to weed\\n\\nThat's an antifa-stronghold, Greta Thunberg and Extinction Rebellion even broke the crowd record there.\\n\\nAbsolute trash, smelly women, you know\",\n",
       " 'The latest Greta Thunberg! https://t.co/bjDWN5LUK4 Thanks to @ReginaBanali #climatecrisis #climate',\n",
       " 'Prominent female leaders like Jacinda Ardern and Greta Thunberg to feature in Prince Harry and Meghan Markle’s newest docuseries\\n#HarryandMeghan\\n#LiveToLead\\n#LiveToLeadNetflix\\nhttps://t.co/kUCCYqrRWs',\n",
       " \"#ClimateCrisis  #ClimateAction   #GlobalWarming #FridaysForFuture     #ClimateChange  #Greenwashing #Renewables   #ClimateStrike   #ExtinctionRebellion         \\n\\nYou've been fooled by Greta Thunberg: https://t.co/kCLzmsXi1Z\",\n",
       " '@ToniMcNeill7 @great_thunberg Greta Thunberg has zero actual affiliation with this account you evil scumbag. She’s off doing her thing',\n",
       " '\"Thunberg explains that if everyone were to adopt a plant-based diet, we would save up to 8 billion tons of carbon dioxide annually and use 76 percent less land.\"\\n\\n#DitchDairy #Vegan \\nhttps://t.co/buqfnsjT52',\n",
       " 'Or like Greta thunberg who bern passed around and touched more times than all the rest room door handles at all the Trump rallies combined https://t.co/fwGPNwcU9V',\n",
       " \"@Independent @Independent why on earth do you normalise knuckle-scraping middle age men by printing offensive quotes 'Greta Thunberg will be pleased' as if it is acceptable language? You should exercise some editorial control over the misogynistic quotes you print. Inexusable! Aim higher.\",\n",
       " \"Dear Activists. Here is something you should know about Greta Thunberg, climate change activist. Thunberg has a collection of speeches called 'No One Is Too Small To Make A Difference'. She is a amazing activist and is important to our planet.\",\n",
       " 'The series will feature inspirational leaders such as Greta Thunberg https://t.co/zafjLN0scZ',\n",
       " '@sophielouisecc Greta Thunberg?...an ANTIFA activist and Anarchist.\\nThrown out of school as unteachable and a disruptive influence on the other kids\\nTerrorised millions of children by claiming they would all die in flames...\\nSeriously?\\nH&amp;M are deluded, and trying to gain sectional support.',\n",
       " 'Greta Thunberg Joins Youth Activists on TIME Panel at\\xa0Davos https://t.co/Bkg2UwjFji',\n",
       " '@jessicaelgot @carolinenokes This is good to see but Clarkson has form. Remember his hatred of Greta Thunberg and saying she needed smacking? He is part of a misogynistic team of right wing hate in our modern media',\n",
       " \"@catturd2 I blame Greta Thunberg for not working harder. It's all her fault.\",\n",
       " \"Prominent female leaders like Jacinda Ardern, Greta Thunberg, Justice Ruth Bader Ginsberg and Gloria Steinem are set to be featured in Prince Harry and Meghan Markles’ newest Netflix docuseries, 'Live to Lead'. https://t.co/Wx3sdyInW0\",\n",
       " '@jburks63 @howmanyjokesun1 Greta Thunberg is looking real good in this, and it’s okay to say that now that she’s 18+.',\n",
       " \"Prominent female leaders featured in Prince Harry &amp; Meghan's new show https://t.co/WWo7z34Sy0\",\n",
       " 'Greta Thunberg Research Activity - Middle School Climate Change PDF Printable FJHSQUG\\n\\nhttps://t.co/0c6Kdmzc4z https://t.co/qbTrbhCxwr',\n",
       " 'Meghan was mostly silent as the right attacked Greta Thunberg, then a minor. She only speaks up when it’s a white conservative. \\nhttps://t.co/VN6rUrjuTL https://t.co/cWbbP7Fp17',\n",
       " 'Jozi Gold has been nominated for a Cinema for Peace Award, alongside David Attenborough and the Greta Thunberg film. Category: International Green Film Award. https://t.co/Aman3XynsX',\n",
       " '@MeghanMcCain Taylor Lorenz did not target Claudia Conway. I recall conservatives hounding climate activist Greta Thunberg, and you said on The View that it was fine. Conservatives stalked the Obama children, and you said nothing. What changed?',\n",
       " '@JNRaeside He also said Greta Thunberg needed a “smacked bottom”. This plus the gay men’s bottoms plus now the faeces suggest a certain consistency to his anger and outrage.\\n\\nMan, he needs therapy.',\n",
       " '@pegobry @Steve_Sailer @eugyppius1 Malthus ---&gt; Club of Rome ---&gt; Greta Thunberg',\n",
       " \"new leaks nudes leaked of:\\nSimone Biles \\nKim Kardashian \\nJill Biden \\nTaylor Swift \\nGreta Thunberg .\\nOprah Winfrey \\nMichelle Obama\\nCharli D'Amelio.\\nLoren Gray \\nAddison Rae \\nArishfa Khan\\nKristen Hancher \\nNisha Guragain \\nLiza Koshy\\nhttps://t.co/xmn7UP81E0\",\n",
       " '@juicyy_box Such a valid take. At the same time, however, we must be aware of how entitlement manifests itself in young people who are active on the political stage as well (E.G. Greta Thunberg, etc). A new generation of apathetic thinkers is being created.',\n",
       " '@UKAndNIasOne Celebrating inspirational leaders, first up, Greta Thunberg 🤣',\n",
       " '@PatriciaLongw10 Greta Thunberg is not a leader. She is merely a mouthpiece for an organisation. All she does is shout and deliver angry speeches. Surely she can’t agree with the Harkles continual use of private jets. The others I don’t recognise. They all seem to be activists not leaders.',\n",
       " \"So H&amp;M's next 'docusoap' will celebrate 'leaders' like Greta Thunberg ...🤣🤣\",\n",
       " \"Hey guys I don't wanna speculate on anyone's mental health but I think Greta Thunberg might be autistic? I mean, idk. But I think it's possible.\",\n",
       " '@boxmontessori its NOT THEIR PROGRAME IT WAS PRODUCED IN 2019 DOES ANYBODY REALLY THINK THAT GRETA THUNBERG WOULD HAVE ANYTHING TO DO WITH JH&amp;MM &amp; RUTH BADER GINSBERG DIED LAST YEAR SHE WOULD BE TURNING IN HER GRAVE  THEY BOUGHT IT &amp; STUCK THEIR STICKER ON IT &amp; TOOK OVER THE NARRATION ?????????',\n",
       " 'Grown men who are triggered by Meghan Markle &amp; Greta Thunberg #Names https://t.co/No1aTln4sR',\n",
       " '@sophielouisecc Greta Thunberg, an inspirational leader? In what universe. She an exploited teenager with delusions of grandeur',\n",
       " '@joannaccherry @UNSRVAW Funny that, when all the \"Womenwontweesht\" yourself included, were utterly silent after the misogynistic and hatefilled attach against Meghan Markle and Nicola Sturgeon. What\\'s wrong - too busy trying to dogpile Greta Thunberg??',\n",
       " 'Meghan and Harry to release another Netflix series https://t.co/bK1t1Zu5bh',\n",
       " 'I believe the term #BeKind was trending out of respect. The very next day people were posting about inflicting violence on Greta Thunberg https://t.co/s5dXNGdn55',\n",
       " '#PiersMorgan who trolls Meghan Markle and Greta Thunberg is upset https://t.co/xLwSrjWwo5',\n",
       " \"Greta and the Giants: inspired by Greta Thunberg's stand to save the world O0UTM8W\\n\\nhttps://t.co/LR3S2UiNxp https://t.co/5YBR9EOmvQ\",\n",
       " '@Reashelby1 @MailOnline Inspiring leaders: Greta Thunberg &amp; Jacinda Ardern?\\n\\nYawn. \\n\\nAbout as inspirational as a limp lettuce.\\n\\nMore vacuous BS.',\n",
       " \"@JR42845598 You haven't heard the worst, also on it are Greta Thunberg, Jacinda Ardern the NZ PM, and a female activist Gloria someone who is a friend of Meghan.\",\n",
       " \"Harry and Meghan's jet use questioned as Thunberg appears in clip https://t.co/xNV1Gqwx6U\",\n",
       " 'behold my collection of stupid conservative memes of greta thunberg specifically in 2065 for some reason https://t.co/xsqqDIQ0Gl',\n",
       " '@GBNEWS Harry and Megan have been inspired by people like Greta Thunberg, Nicola Sturgeon and Harry Potter.',\n",
       " 'Right now people are going to freeze to death  because of Greta Thunberg and her ilk pushing the big lie of global warming, cooling, change or whatever the fuck, and European politics. There is enough energy to keep them alive.',\n",
       " '@KEdge23 On a Tory hate rating list high earning leftie footballers are just below Greta Thunberg and just above Harry and Meghan',\n",
       " 'From Obama to Putin to Xi Jingping as world leaders to Greta Thunberg and other activists or famous scientists who will yet discover something revolutionary. \\n\\nAll DW historicals leave some artistic freedom to tell a compelling story even if that story isn’t 100% accurate.',\n",
       " 'Is it just me or is Gideon just a fatter bearded Greta Thunberg? https://t.co/dadf5iLNtl',\n",
       " \"If Greta Thunberg was a middle aged, bearded white man he'd have been sectioned long ago. https://t.co/vQFQqxfnAp\",\n",
       " \"@its_the_Dr Greta Thunberg should learn who's childhood was really oppressed and stolen.\",\n",
       " \"#ClimateCrisis #ClimateAction #GlobalWarming   #FridaysForFuture   #ClimateChange  #Renewables #Greenwashing  #ExtinctionRebellion   #ClimateStrike            \\n\\nYou've been fooled by Greta Thunberg: https://t.co/Aa0yXsz6jq\",\n",
       " 'For everyone who thinks AI art is gunna take over, why did it just produce 4 images of Greta Thunberg here, instead of using the prompt it was given. Checkmate! https://t.co/Z5Mqd45zCd',\n",
       " '@sophielouisecc Greta Thunberg? The Swedish truant who advocates for communism? Good grief.',\n",
       " '@ronin19217435 Greta Thunberg is a fullblown idiot, like the rest of the lefty woke idiots. Climate Change is a natural thing and however small or big our influence is, mankind can never change that, nature follows its own rules and regulations !',\n",
       " '@people Hope they filmed the right Greta Thunberg',\n",
       " '@FissionPhil First it was ‘everyone is wrong except me’ then endless bagging Greta Thunberg and then Megan Markle just to trigger RE hate clicks - now the ‘Twitter Files’? 🚮',\n",
       " '@minoc2 @aSatanSandwich @MorgothArc @GretaThunberg @_DylanHamilton_ Also; Greta Thunberg is more mature, informed and intelligent than any 20 TERF GCs put together.',\n",
       " 'This is yet another \"adult\" attempting to ignore the next generations concerns, by now claiming that they are not an adult til 25, especially if you are autistic. FYI this is about Greta Thunberg https://t.co/EVGTVXBw2f',\n",
       " 'Dear Twitterverse. Here is something you should know about Greta Thunberg, climate change activist. Greta has her speeches fact checked by scientists\\xa0. She is a talented activist and is important to our planet.',\n",
       " '@sophielouisecc You’ll enlighten us Sophie with your vast intellect as to how you relate Chairman Mao to Jacinda Ardern/Greta Thunberg or is this the right wing Jeremy Clarkson equivalent of using Meghan Markle and Rose West in the same sentence ?',\n",
       " 'Harry &amp; Meghan NEW Netflix Documentary Announced with Greta Thunberg &amp; Jacinda Ardern! WTF Is this a JOKE?? \\n\\nhttps://t.co/FWKlIYIsl6 via @YouTube \\n\\n#joke #netflix #HarryAndMeghanNetfix #GretaThunberg #jacindaardern #NelsonMandela',\n",
       " 'Royal couple’s net Netflix show features Greta Thunberg, Jacinda\\xa0Ardern https://t.co/5nrCNIDv40',\n",
       " 'Royal couple’s net Netflix show features Greta Thunberg, Jacinda\\xa0Ardern https://t.co/5aS79fnOwK']"
      ]
     },
     "execution_count": 8,
     "metadata": {},
     "output_type": "execute_result"
    }
   ],
   "source": [
    "# make epty list for tweets\n",
    "thunberg_tweets = []\n",
    "for tweet in tweets_thunberg.data:\n",
    "    thunberg_tweets.append(tweet.text)\n",
    "    \n",
    "thunberg_tweets"
   ]
  },
  {
   "cell_type": "code",
   "execution_count": 28,
   "id": "797a54dd",
   "metadata": {},
   "outputs": [
    {
     "data": {
      "text/plain": [
       "{'guess': True,\n",
       " 'big': True,\n",
       " 'problem': True,\n",
       " 'elon': True,\n",
       " 'musk': True,\n",
       " 'firing': True,\n",
       " 'fbi': True,\n",
       " 'operatives': True,\n",
       " 'twitter??': True}"
      ]
     },
     "execution_count": 28,
     "metadata": {},
     "output_type": "execute_result"
    }
   ],
   "source": [
    "# creating keywords\n",
    "import nltk\n",
    "from nltk.corpus import stopwords\n",
    "\n",
    "# IMPORTANT here is where I added more ways to filter through the keywords to increase accuracy\n",
    "# stopwords, removing links, account names and hashtags were the most helpful\n",
    "\n",
    "def get_features(text):\n",
    "    # create array of words\n",
    "    text = text.lower()\n",
    "    words = text.split()\n",
    "    s_words = stopwords.words('english')\n",
    "    keywords = dict([(w, True) for w in words if w not in s_words and not w.isdigit() and '@' not in w and '#' not in w and 'https' not in w and '&' not in w and ':' not in w])\n",
    "    \n",
    "    return keywords\n",
    "\n",
    "\n",
    "get_features(musk_tweets[50])"
   ]
  },
  {
   "cell_type": "code",
   "execution_count": 29,
   "id": "f46dc199",
   "metadata": {},
   "outputs": [
    {
     "data": {
      "text/plain": [
       "{'greta': True,\n",
       " 'thunberg': True,\n",
       " 'joins': True,\n",
       " 'youth': True,\n",
       " 'activists': True,\n",
       " 'time': True,\n",
       " 'panel': True,\n",
       " 'davos': True}"
      ]
     },
     "execution_count": 29,
     "metadata": {},
     "output_type": "execute_result"
    }
   ],
   "source": [
    "get_features(thunberg_tweets[50])"
   ]
  },
  {
   "cell_type": "code",
   "execution_count": 30,
   "id": "147eda7d",
   "metadata": {},
   "outputs": [],
   "source": [
    "# setting up format\n",
    "label_features = {'Musk': [], 'Thunberg': []}\n",
    "\n",
    "for tweet in thunberg_tweets:\n",
    "    features = get_features(tweet)\n",
    "    label_features['Thunberg'].append(features)"
   ]
  },
  {
   "cell_type": "code",
   "execution_count": 31,
   "id": "e2223e75",
   "metadata": {},
   "outputs": [],
   "source": [
    "for tweet in musk_tweets:\n",
    "    features = get_features(tweet)\n",
    "    label_features['Musk'].append(features)"
   ]
  },
  {
   "cell_type": "code",
   "execution_count": 32,
   "id": "05775d61",
   "metadata": {},
   "outputs": [
    {
     "data": {
      "text/plain": [
       "{'dear': True,\n",
       " 'activists.': True,\n",
       " 'something': True,\n",
       " 'know': True,\n",
       " 'greta': True,\n",
       " 'thunberg,': True,\n",
       " 'climate': True,\n",
       " 'change': True,\n",
       " 'activist.': True,\n",
       " 'founded': True,\n",
       " 'movement': True,\n",
       " 'called': True,\n",
       " 'fridays': True,\n",
       " 'future,': True,\n",
       " 'also': True,\n",
       " 'school': True,\n",
       " 'strike': True,\n",
       " 'form': True,\n",
       " '2018.': True,\n",
       " 'amazing': True,\n",
       " 'activist': True,\n",
       " 'important': True,\n",
       " 'planet.': True}"
      ]
     },
     "execution_count": 32,
     "metadata": {},
     "output_type": "execute_result"
    }
   ],
   "source": [
    "label_features['Thunberg'][0]\n",
    "# far more accurate after code ammendments"
   ]
  },
  {
   "cell_type": "code",
   "execution_count": 33,
   "id": "ec97429f",
   "metadata": {},
   "outputs": [
    {
     "data": {
      "text/plain": [
       "{'elon': True,\n",
       " 'scary': True,\n",
       " 'pulled': True,\n",
       " 'cops?': True,\n",
       " 'also': True,\n",
       " 'musk': True,\n",
       " 'white': True,\n",
       " 'people': True,\n",
       " 'allowed': True,\n",
       " 'answer!': True}"
      ]
     },
     "execution_count": 33,
     "metadata": {},
     "output_type": "execute_result"
    }
   ],
   "source": [
    "label_features['Musk'][0]"
   ]
  },
  {
   "cell_type": "code",
   "execution_count": 34,
   "id": "ef27dc7c",
   "metadata": {},
   "outputs": [],
   "source": [
    "import random\n",
    "import math\n",
    "\n",
    "# split the data into training / test sets -> 75/25% split\n",
    "def split_label_feats(label_features):\n",
    "    train_feats = []\n",
    "    test_feats = []\n",
    "    \n",
    "    for label in label_features:\n",
    "        features = label_features[label]\n",
    "        cutoff = math.floor(len(features)*.8)\n",
    "        train_feats.extend([(f, label) for f in features[:cutoff]])\n",
    "        test_feats.extend([(f, label) for f in features[cutoff+1:]])\n",
    "\n",
    "    return train_feats, test_feats"
   ]
  },
  {
   "cell_type": "code",
   "execution_count": 35,
   "id": "2de91cac",
   "metadata": {},
   "outputs": [],
   "source": [
    "train_set, test_set = split_label_feats(label_features)"
   ]
  },
  {
   "cell_type": "code",
   "execution_count": 36,
   "id": "cda3931e",
   "metadata": {},
   "outputs": [
    {
     "name": "stdout",
     "output_type": "stream",
     "text": [
      "160\n",
      "38\n"
     ]
    }
   ],
   "source": [
    "# checking ratio\n",
    "print(len(train_set))\n",
    "print(len(test_set))"
   ]
  },
  {
   "cell_type": "code",
   "execution_count": 37,
   "id": "262aca08",
   "metadata": {},
   "outputs": [],
   "source": [
    "# Naive Bayes Classifier\n",
    "from nltk.classify import NaiveBayesClassifier\n",
    "\n",
    "nb = NaiveBayesClassifier.train(train_set)"
   ]
  },
  {
   "cell_type": "code",
   "execution_count": 38,
   "id": "03eb83b8",
   "metadata": {},
   "outputs": [
    {
     "data": {
      "text/plain": [
       "'Musk'"
      ]
     },
     "execution_count": 38,
     "metadata": {},
     "output_type": "execute_result"
    }
   ],
   "source": [
    "# testing tweet from Musk not in the data set\n",
    "ex1_features = get_features(\"The more I learn, the worse it gets. The world should know the truth of what has been happening at Twitter. Transparency will earn the trust of the people.\")\n",
    "nb.classify(ex1_features)"
   ]
  },
  {
   "cell_type": "code",
   "execution_count": 39,
   "id": "f78c03ae",
   "metadata": {
    "scrolled": true
   },
   "outputs": [
    {
     "data": {
      "text/plain": [
       "'Thunberg'"
      ]
     },
     "execution_count": 39,
     "metadata": {},
     "output_type": "execute_result"
    }
   ],
   "source": [
    "# testing tweet from Thunberg not in the data set\n",
    "ex2_features = get_features(\"A reminder: the people in power don’t need conferences, treaties or agreements to start taking real climate action. They can start today. When enough people come together then change will come and we can achieve almost anything. So instead of looking for hope - start creating it.\")\n",
    "nb.classify(ex2_features)"
   ]
  },
  {
   "cell_type": "code",
   "execution_count": 40,
   "id": "b10f5d7e",
   "metadata": {},
   "outputs": [
    {
     "data": {
      "text/plain": [
       "1.0"
      ]
     },
     "execution_count": 40,
     "metadata": {},
     "output_type": "execute_result"
    }
   ],
   "source": [
    "# calculate accuracy\n",
    "from nltk.classify.util import accuracy\n",
    "\n",
    "accuracy(nb, test_set)\n",
    "# it has improved massively!"
   ]
  },
  {
   "cell_type": "code",
   "execution_count": 41,
   "id": "cfef57e2",
   "metadata": {},
   "outputs": [
    {
     "name": "stdout",
     "output_type": "stream",
     "text": [
      "dict_keys(['Musk', 'Thunberg'])\n",
      "chosen class: Musk\n",
      "P(Musk)= 0.9999999933394947\n",
      "P(Thunberg)= 6.660504989097912e-09\n"
     ]
    }
   ],
   "source": [
    "# getting classification probability of each label\n",
    "probs = nb.prob_classify(test_set[6][0])\n",
    "\n",
    "print(probs.samples())\n",
    "print('chosen class:',probs.max())\n",
    "print('P(Musk)=',probs.prob('Musk'))\n",
    "print('P(Thunberg)=',probs.prob('Thunberg'))"
   ]
  },
  {
   "cell_type": "code",
   "execution_count": 42,
   "id": "b71c056f",
   "metadata": {},
   "outputs": [
    {
     "data": {
      "text/plain": [
       "({'elon': True,\n",
       "  'musk': True,\n",
       "  \"'actively\": True,\n",
       "  \"looking'\": True,\n",
       "  'twitter': True,\n",
       "  'ceo': True,\n",
       "  'replace': True,\n",
       "  'report': True,\n",
       "  'via': True},\n",
       " 'Musk')"
      ]
     },
     "execution_count": 42,
     "metadata": {},
     "output_type": "execute_result"
    }
   ],
   "source": [
    "test_set[6]"
   ]
  },
  {
   "cell_type": "code",
   "execution_count": 43,
   "id": "dd7ada7b",
   "metadata": {},
   "outputs": [
    {
     "name": "stdout",
     "output_type": "stream",
     "text": [
      "Most Informative Features\n",
      "                   greta = None             Musk : Thunbe =     12.4 : 1.0\n",
      "                    elon = None           Thunbe : Musk   =      7.0 : 1.0\n",
      "                    musk = None           Thunbe : Musk   =      4.6 : 1.0\n",
      "                  change = True           Thunbe : Musk   =      3.7 : 1.0\n",
      "                     it. = True             Musk : Thunbe =      3.0 : 1.0\n",
      "                    need = True             Musk : Thunbe =      3.0 : 1.0\n",
      "                     say = True             Musk : Thunbe =      3.0 : 1.0\n",
      "                thunberg = None             Musk : Thunbe =      2.6 : 1.0\n",
      "                    even = True           Thunbe : Musk   =      2.3 : 1.0\n",
      "                   media = True             Musk : Thunbe =      2.3 : 1.0\n"
     ]
    }
   ],
   "source": [
    "# more information on the chosen label\n",
    "\n",
    "nb.show_most_informative_features(10)"
   ]
  },
  {
   "cell_type": "code",
   "execution_count": null,
   "id": "bfa2db24",
   "metadata": {},
   "outputs": [],
   "source": []
  },
  {
   "cell_type": "code",
   "execution_count": null,
   "id": "0cb6c15b",
   "metadata": {},
   "outputs": [],
   "source": []
  }
 ],
 "metadata": {
  "kernelspec": {
   "display_name": "Python 3 (ipykernel)",
   "language": "python",
   "name": "python3"
  },
  "language_info": {
   "codemirror_mode": {
    "name": "ipython",
    "version": 3
   },
   "file_extension": ".py",
   "mimetype": "text/x-python",
   "name": "python",
   "nbconvert_exporter": "python",
   "pygments_lexer": "ipython3",
   "version": "3.9.13"
  }
 },
 "nbformat": 4,
 "nbformat_minor": 5
}
